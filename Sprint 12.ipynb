{
 "cells": [
  {
   "cell_type": "markdown",
   "metadata": {},
   "source": [
    "El servicio de venta de autos usados Rusty Bargain está desarrollando una aplicación para atraer nuevos clientes. Gracias a esa app, puedes averiguar rápidamente el valor de mercado de tu coche. Tienes acceso al historial: especificaciones técnicas, versiones de equipamiento y precios. Tienes que crear un modelo que determine el valor de mercado.\n",
    "A Rusty Bargain le interesa:\n",
    "- la calidad de la predicción;\n",
    "- la velocidad de la predicción;\n",
    "- el tiempo requerido para el entrenamiento"
   ]
  },
  {
   "cell_type": "markdown",
   "metadata": {},
   "source": [
    "## Importacion de las librerias utilizadas en el proyecto\n",
    "\n",
    "- Importamos las librerias que utilizaremos en el proyecto."
   ]
  },
  {
   "cell_type": "code",
   "execution_count": 1,
   "metadata": {},
   "outputs": [
    {
     "name": "stdout",
     "output_type": "stream",
     "text": [
      "CPU times: user 1.43 s, sys: 353 ms, total: 1.79 s\n",
      "Wall time: 1.8 s\n"
     ]
    }
   ],
   "source": [
    "%%time\n",
    "#Librerias iniciales\n",
    "import pandas\n",
    "import numpy\n",
    "import matplotlib.pyplot as plt\n",
    "#Librerias de Modelos y entrenamiento\n",
    "from sklearn.preprocessing import OrdinalEncoder\n",
    "from sklearn.preprocessing import OneHotEncoder\n",
    "from sklearn.preprocessing import StandardScaler\n",
    "from sklearn.model_selection import train_test_split\n",
    "from sklearn.linear_model import LinearRegression\n",
    "from sklearn.tree import DecisionTreeRegressor\n",
    "from sklearn.ensemble import RandomForestRegressor\n",
    "from lightgbm import LGBMRegressor\n",
    "from catboost import CatBoostRegressor\n",
    "import xgboost\n",
    "#Librerias de metricas\n",
    "from sklearn.metrics import mean_squared_error\n",
    "from sklearn.metrics import accuracy_score"
   ]
  },
  {
   "cell_type": "markdown",
   "metadata": {},
   "source": [
    "## Preparación de datos"
   ]
  },
  {
   "cell_type": "markdown",
   "metadata": {},
   "source": [
    "### Lectura de los datos\n",
    "\n",
    "- Leemos el dataset y comprombamos sus columnas y datos"
   ]
  },
  {
   "cell_type": "code",
   "execution_count": 2,
   "metadata": {},
   "outputs": [
    {
     "name": "stdout",
     "output_type": "stream",
     "text": [
      "CPU times: user 671 ms, sys: 39.4 ms, total: 710 ms\n",
      "Wall time: 719 ms\n"
     ]
    }
   ],
   "source": [
    "%%time\n",
    "df=pandas.read_csv('/datasets/car_data.csv')"
   ]
  },
  {
   "cell_type": "code",
   "execution_count": 3,
   "metadata": {},
   "outputs": [
    {
     "name": "stdout",
     "output_type": "stream",
     "text": [
      "<class 'pandas.core.frame.DataFrame'>\n",
      "RangeIndex: 354369 entries, 0 to 354368\n",
      "Data columns (total 16 columns):\n",
      " #   Column             Non-Null Count   Dtype \n",
      "---  ------             --------------   ----- \n",
      " 0   DateCrawled        354369 non-null  object\n",
      " 1   Price              354369 non-null  int64 \n",
      " 2   VehicleType        316879 non-null  object\n",
      " 3   RegistrationYear   354369 non-null  int64 \n",
      " 4   Gearbox            334536 non-null  object\n",
      " 5   Power              354369 non-null  int64 \n",
      " 6   Model              334664 non-null  object\n",
      " 7   Mileage            354369 non-null  int64 \n",
      " 8   RegistrationMonth  354369 non-null  int64 \n",
      " 9   FuelType           321474 non-null  object\n",
      " 10  Brand              354369 non-null  object\n",
      " 11  NotRepaired        283215 non-null  object\n",
      " 12  DateCreated        354369 non-null  object\n",
      " 13  NumberOfPictures   354369 non-null  int64 \n",
      " 14  PostalCode         354369 non-null  int64 \n",
      " 15  LastSeen           354369 non-null  object\n",
      "dtypes: int64(7), object(9)\n",
      "memory usage: 43.3+ MB\n",
      "CPU times: user 146 ms, sys: 356 µs, total: 147 ms\n",
      "Wall time: 152 ms\n"
     ]
    }
   ],
   "source": [
    "%%time\n",
    "df.info()"
   ]
  },
  {
   "cell_type": "code",
   "execution_count": 4,
   "metadata": {},
   "outputs": [
    {
     "name": "stdout",
     "output_type": "stream",
     "text": [
      "CPU times: user 148 µs, sys: 26 µs, total: 174 µs\n",
      "Wall time: 178 µs\n"
     ]
    },
    {
     "data": {
      "text/html": [
       "<div>\n",
       "<style scoped>\n",
       "    .dataframe tbody tr th:only-of-type {\n",
       "        vertical-align: middle;\n",
       "    }\n",
       "\n",
       "    .dataframe tbody tr th {\n",
       "        vertical-align: top;\n",
       "    }\n",
       "\n",
       "    .dataframe thead th {\n",
       "        text-align: right;\n",
       "    }\n",
       "</style>\n",
       "<table border=\"1\" class=\"dataframe\">\n",
       "  <thead>\n",
       "    <tr style=\"text-align: right;\">\n",
       "      <th></th>\n",
       "      <th>DateCrawled</th>\n",
       "      <th>Price</th>\n",
       "      <th>VehicleType</th>\n",
       "      <th>RegistrationYear</th>\n",
       "      <th>Gearbox</th>\n",
       "      <th>Power</th>\n",
       "      <th>Model</th>\n",
       "      <th>Mileage</th>\n",
       "      <th>RegistrationMonth</th>\n",
       "      <th>FuelType</th>\n",
       "      <th>Brand</th>\n",
       "      <th>NotRepaired</th>\n",
       "      <th>DateCreated</th>\n",
       "      <th>NumberOfPictures</th>\n",
       "      <th>PostalCode</th>\n",
       "      <th>LastSeen</th>\n",
       "    </tr>\n",
       "  </thead>\n",
       "  <tbody>\n",
       "    <tr>\n",
       "      <th>0</th>\n",
       "      <td>24/03/2016 11:52</td>\n",
       "      <td>480</td>\n",
       "      <td>NaN</td>\n",
       "      <td>1993</td>\n",
       "      <td>manual</td>\n",
       "      <td>0</td>\n",
       "      <td>golf</td>\n",
       "      <td>150000</td>\n",
       "      <td>0</td>\n",
       "      <td>petrol</td>\n",
       "      <td>volkswagen</td>\n",
       "      <td>NaN</td>\n",
       "      <td>24/03/2016 00:00</td>\n",
       "      <td>0</td>\n",
       "      <td>70435</td>\n",
       "      <td>07/04/2016 03:16</td>\n",
       "    </tr>\n",
       "    <tr>\n",
       "      <th>1</th>\n",
       "      <td>24/03/2016 10:58</td>\n",
       "      <td>18300</td>\n",
       "      <td>coupe</td>\n",
       "      <td>2011</td>\n",
       "      <td>manual</td>\n",
       "      <td>190</td>\n",
       "      <td>NaN</td>\n",
       "      <td>125000</td>\n",
       "      <td>5</td>\n",
       "      <td>gasoline</td>\n",
       "      <td>audi</td>\n",
       "      <td>yes</td>\n",
       "      <td>24/03/2016 00:00</td>\n",
       "      <td>0</td>\n",
       "      <td>66954</td>\n",
       "      <td>07/04/2016 01:46</td>\n",
       "    </tr>\n",
       "    <tr>\n",
       "      <th>2</th>\n",
       "      <td>14/03/2016 12:52</td>\n",
       "      <td>9800</td>\n",
       "      <td>suv</td>\n",
       "      <td>2004</td>\n",
       "      <td>auto</td>\n",
       "      <td>163</td>\n",
       "      <td>grand</td>\n",
       "      <td>125000</td>\n",
       "      <td>8</td>\n",
       "      <td>gasoline</td>\n",
       "      <td>jeep</td>\n",
       "      <td>NaN</td>\n",
       "      <td>14/03/2016 00:00</td>\n",
       "      <td>0</td>\n",
       "      <td>90480</td>\n",
       "      <td>05/04/2016 12:47</td>\n",
       "    </tr>\n",
       "    <tr>\n",
       "      <th>3</th>\n",
       "      <td>17/03/2016 16:54</td>\n",
       "      <td>1500</td>\n",
       "      <td>small</td>\n",
       "      <td>2001</td>\n",
       "      <td>manual</td>\n",
       "      <td>75</td>\n",
       "      <td>golf</td>\n",
       "      <td>150000</td>\n",
       "      <td>6</td>\n",
       "      <td>petrol</td>\n",
       "      <td>volkswagen</td>\n",
       "      <td>no</td>\n",
       "      <td>17/03/2016 00:00</td>\n",
       "      <td>0</td>\n",
       "      <td>91074</td>\n",
       "      <td>17/03/2016 17:40</td>\n",
       "    </tr>\n",
       "    <tr>\n",
       "      <th>4</th>\n",
       "      <td>31/03/2016 17:25</td>\n",
       "      <td>3600</td>\n",
       "      <td>small</td>\n",
       "      <td>2008</td>\n",
       "      <td>manual</td>\n",
       "      <td>69</td>\n",
       "      <td>fabia</td>\n",
       "      <td>90000</td>\n",
       "      <td>7</td>\n",
       "      <td>gasoline</td>\n",
       "      <td>skoda</td>\n",
       "      <td>no</td>\n",
       "      <td>31/03/2016 00:00</td>\n",
       "      <td>0</td>\n",
       "      <td>60437</td>\n",
       "      <td>06/04/2016 10:17</td>\n",
       "    </tr>\n",
       "    <tr>\n",
       "      <th>5</th>\n",
       "      <td>04/04/2016 17:36</td>\n",
       "      <td>650</td>\n",
       "      <td>sedan</td>\n",
       "      <td>1995</td>\n",
       "      <td>manual</td>\n",
       "      <td>102</td>\n",
       "      <td>3er</td>\n",
       "      <td>150000</td>\n",
       "      <td>10</td>\n",
       "      <td>petrol</td>\n",
       "      <td>bmw</td>\n",
       "      <td>yes</td>\n",
       "      <td>04/04/2016 00:00</td>\n",
       "      <td>0</td>\n",
       "      <td>33775</td>\n",
       "      <td>06/04/2016 19:17</td>\n",
       "    </tr>\n",
       "    <tr>\n",
       "      <th>6</th>\n",
       "      <td>01/04/2016 20:48</td>\n",
       "      <td>2200</td>\n",
       "      <td>convertible</td>\n",
       "      <td>2004</td>\n",
       "      <td>manual</td>\n",
       "      <td>109</td>\n",
       "      <td>2_reihe</td>\n",
       "      <td>150000</td>\n",
       "      <td>8</td>\n",
       "      <td>petrol</td>\n",
       "      <td>peugeot</td>\n",
       "      <td>no</td>\n",
       "      <td>01/04/2016 00:00</td>\n",
       "      <td>0</td>\n",
       "      <td>67112</td>\n",
       "      <td>05/04/2016 18:18</td>\n",
       "    </tr>\n",
       "    <tr>\n",
       "      <th>7</th>\n",
       "      <td>21/03/2016 18:54</td>\n",
       "      <td>0</td>\n",
       "      <td>sedan</td>\n",
       "      <td>1980</td>\n",
       "      <td>manual</td>\n",
       "      <td>50</td>\n",
       "      <td>other</td>\n",
       "      <td>40000</td>\n",
       "      <td>7</td>\n",
       "      <td>petrol</td>\n",
       "      <td>volkswagen</td>\n",
       "      <td>no</td>\n",
       "      <td>21/03/2016 00:00</td>\n",
       "      <td>0</td>\n",
       "      <td>19348</td>\n",
       "      <td>25/03/2016 16:47</td>\n",
       "    </tr>\n",
       "    <tr>\n",
       "      <th>8</th>\n",
       "      <td>04/04/2016 23:42</td>\n",
       "      <td>14500</td>\n",
       "      <td>bus</td>\n",
       "      <td>2014</td>\n",
       "      <td>manual</td>\n",
       "      <td>125</td>\n",
       "      <td>c_max</td>\n",
       "      <td>30000</td>\n",
       "      <td>8</td>\n",
       "      <td>petrol</td>\n",
       "      <td>ford</td>\n",
       "      <td>NaN</td>\n",
       "      <td>04/04/2016 00:00</td>\n",
       "      <td>0</td>\n",
       "      <td>94505</td>\n",
       "      <td>04/04/2016 23:42</td>\n",
       "    </tr>\n",
       "    <tr>\n",
       "      <th>9</th>\n",
       "      <td>17/03/2016 10:53</td>\n",
       "      <td>999</td>\n",
       "      <td>small</td>\n",
       "      <td>1998</td>\n",
       "      <td>manual</td>\n",
       "      <td>101</td>\n",
       "      <td>golf</td>\n",
       "      <td>150000</td>\n",
       "      <td>0</td>\n",
       "      <td>NaN</td>\n",
       "      <td>volkswagen</td>\n",
       "      <td>NaN</td>\n",
       "      <td>17/03/2016 00:00</td>\n",
       "      <td>0</td>\n",
       "      <td>27472</td>\n",
       "      <td>31/03/2016 17:17</td>\n",
       "    </tr>\n",
       "  </tbody>\n",
       "</table>\n",
       "</div>"
      ],
      "text/plain": [
       "        DateCrawled  Price  VehicleType  RegistrationYear Gearbox  Power  \\\n",
       "0  24/03/2016 11:52    480          NaN              1993  manual      0   \n",
       "1  24/03/2016 10:58  18300        coupe              2011  manual    190   \n",
       "2  14/03/2016 12:52   9800          suv              2004    auto    163   \n",
       "3  17/03/2016 16:54   1500        small              2001  manual     75   \n",
       "4  31/03/2016 17:25   3600        small              2008  manual     69   \n",
       "5  04/04/2016 17:36    650        sedan              1995  manual    102   \n",
       "6  01/04/2016 20:48   2200  convertible              2004  manual    109   \n",
       "7  21/03/2016 18:54      0        sedan              1980  manual     50   \n",
       "8  04/04/2016 23:42  14500          bus              2014  manual    125   \n",
       "9  17/03/2016 10:53    999        small              1998  manual    101   \n",
       "\n",
       "     Model  Mileage  RegistrationMonth  FuelType       Brand NotRepaired  \\\n",
       "0     golf   150000                  0    petrol  volkswagen         NaN   \n",
       "1      NaN   125000                  5  gasoline        audi         yes   \n",
       "2    grand   125000                  8  gasoline        jeep         NaN   \n",
       "3     golf   150000                  6    petrol  volkswagen          no   \n",
       "4    fabia    90000                  7  gasoline       skoda          no   \n",
       "5      3er   150000                 10    petrol         bmw         yes   \n",
       "6  2_reihe   150000                  8    petrol     peugeot          no   \n",
       "7    other    40000                  7    petrol  volkswagen          no   \n",
       "8    c_max    30000                  8    petrol        ford         NaN   \n",
       "9     golf   150000                  0       NaN  volkswagen         NaN   \n",
       "\n",
       "        DateCreated  NumberOfPictures  PostalCode          LastSeen  \n",
       "0  24/03/2016 00:00                 0       70435  07/04/2016 03:16  \n",
       "1  24/03/2016 00:00                 0       66954  07/04/2016 01:46  \n",
       "2  14/03/2016 00:00                 0       90480  05/04/2016 12:47  \n",
       "3  17/03/2016 00:00                 0       91074  17/03/2016 17:40  \n",
       "4  31/03/2016 00:00                 0       60437  06/04/2016 10:17  \n",
       "5  04/04/2016 00:00                 0       33775  06/04/2016 19:17  \n",
       "6  01/04/2016 00:00                 0       67112  05/04/2016 18:18  \n",
       "7  21/03/2016 00:00                 0       19348  25/03/2016 16:47  \n",
       "8  04/04/2016 00:00                 0       94505  04/04/2016 23:42  \n",
       "9  17/03/2016 00:00                 0       27472  31/03/2016 17:17  "
      ]
     },
     "execution_count": 4,
     "metadata": {},
     "output_type": "execute_result"
    }
   ],
   "source": [
    "%%time\n",
    "df.head(10)"
   ]
  },
  {
   "cell_type": "markdown",
   "metadata": {},
   "source": [
    "- Revisamos la columna precio y esta tiene muchos valores en 0 como no nos sirve para nuestro modelo siendo el objetivo."
   ]
  },
  {
   "cell_type": "code",
   "execution_count": 5,
   "metadata": {},
   "outputs": [
    {
     "name": "stdout",
     "output_type": "stream",
     "text": [
      "Tenemos 10772 filas de datos con un precio de valor 0\n"
     ]
    }
   ],
   "source": [
    "# Revisamos la columna precio\n",
    "print('Tenemos',df[df['Price']==0].shape[0], 'filas de datos con un precio de valor 0')"
   ]
  },
  {
   "cell_type": "markdown",
   "metadata": {},
   "source": [
    "- Revisamos la columna RegistrationYear y esta tiene años demasiados antiguos, entonces eliminaremos los datos pertenecientes a los vehiculos anteriores de 1980 ya que son solo 3542 datos, si revisamos los datos anterioes de 1990 estos son alrededor de 10000 por ende no quise eliminar desde ese año a anteriores."
   ]
  },
  {
   "cell_type": "code",
   "execution_count": 6,
   "metadata": {},
   "outputs": [
    {
     "name": "stdout",
     "output_type": "stream",
     "text": [
      "Tenemos 9669 filas con año de matriculacion anteriores a 1990\n",
      "Tenemos 3452 filas con año de matriculacion anteriores a 1980\n"
     ]
    }
   ],
   "source": [
    "# Revisamos la columna RegistrationYear con los datos anteriores a 1990\n",
    "print('Tenemos',df[df['RegistrationYear']<1990].shape[0],'filas con año de matriculacion anteriores a 1990')\n",
    "\n",
    "# Revisamos la columna RegistrationYear con los datos anteriores a 1980\n",
    "print('Tenemos',df[df['RegistrationYear']<1980].shape[0],'filas con año de matriculacion anteriores a 1980')"
   ]
  },
  {
   "cell_type": "markdown",
   "metadata": {},
   "source": [
    "### Preparacion de datos que no usaremos, duplicados y ausentes\n",
    "\n",
    "- Revisamos cuantos datos duplicados tenemos en el dataset."
   ]
  },
  {
   "cell_type": "code",
   "execution_count": 7,
   "metadata": {},
   "outputs": [
    {
     "name": "stdout",
     "output_type": "stream",
     "text": [
      "Comprobamos los datos duplicados en el dataset.\n",
      "El dataset tiene 262 duplicados.\n",
      "CPU times: user 363 ms, sys: 32.4 ms, total: 396 ms\n",
      "Wall time: 407 ms\n"
     ]
    }
   ],
   "source": [
    "%%time\n",
    "print('Comprobamos los datos duplicados en el dataset.')\n",
    "print('El dataset tiene',df.duplicated().sum(),'duplicados.')"
   ]
  },
  {
   "cell_type": "markdown",
   "metadata": {},
   "source": [
    "- Comprobamos cuantos datos ausentes tenemos en el dataset."
   ]
  },
  {
   "cell_type": "code",
   "execution_count": 8,
   "metadata": {},
   "outputs": [
    {
     "name": "stdout",
     "output_type": "stream",
     "text": [
      "Comprobamos si hay datos nulos.\n",
      "DateCrawled              0\n",
      "Price                    0\n",
      "VehicleType          37490\n",
      "RegistrationYear         0\n",
      "Gearbox              19833\n",
      "Power                    0\n",
      "Model                19705\n",
      "Mileage                  0\n",
      "RegistrationMonth        0\n",
      "FuelType             32895\n",
      "Brand                    0\n",
      "NotRepaired          71154\n",
      "DateCreated              0\n",
      "NumberOfPictures         0\n",
      "PostalCode               0\n",
      "LastSeen                 0\n",
      "dtype: int64\n",
      "CPU times: user 130 ms, sys: 3.51 ms, total: 133 ms\n",
      "Wall time: 143 ms\n"
     ]
    }
   ],
   "source": [
    "%%time\n",
    "print('Comprobamos si hay datos nulos.')\n",
    "print(df.isnull().sum())"
   ]
  },
  {
   "cell_type": "markdown",
   "metadata": {},
   "source": [
    "- Remplazamos los datos ausentes por la cadena 'Unknown'."
   ]
  },
  {
   "cell_type": "code",
   "execution_count": 9,
   "metadata": {},
   "outputs": [
    {
     "name": "stdout",
     "output_type": "stream",
     "text": [
      "CPU times: user 85.4 ms, sys: 3.54 ms, total: 89 ms\n",
      "Wall time: 95.3 ms\n"
     ]
    }
   ],
   "source": [
    "%%time\n",
    "# Completa los nombres de productos ausentes con 'Unknown'\n",
    "df[\"VehicleType\"]=df[\"VehicleType\"].fillna(\"Unknown\")\n",
    "df[\"Gearbox\"]=df[\"Gearbox\"].fillna(\"Unknown\")\n",
    "#df[\"Model\"]=df[\"Model\"].fillna(\"Unknown\")\n",
    "df[\"FuelType\"]=df[\"FuelType\"].fillna(\"Unknown\")\n",
    "df[\"NotRepaired\"]=df[\"NotRepaired\"].fillna(\"Unknown\")"
   ]
  },
  {
   "cell_type": "markdown",
   "metadata": {},
   "source": [
    "- Eliminamos las caracteristicas o features (columnas) que no son necesarias para encontrar el objetivo o target (Price)."
   ]
  },
  {
   "cell_type": "code",
   "execution_count": 10,
   "metadata": {},
   "outputs": [
    {
     "name": "stdout",
     "output_type": "stream",
     "text": [
      "CPU times: user 15.9 ms, sys: 0 ns, total: 15.9 ms\n",
      "Wall time: 25.8 ms\n"
     ]
    }
   ],
   "source": [
    "%%time\n",
    "df=df.drop(['DateCrawled','DateCreated','LastSeen','NumberOfPictures','PostalCode','Power','Model','RegistrationMonth','Brand'],axis=1)"
   ]
  },
  {
   "cell_type": "markdown",
   "metadata": {},
   "source": [
    "- Eliminamos los datos ausentes."
   ]
  },
  {
   "cell_type": "code",
   "execution_count": 11,
   "metadata": {},
   "outputs": [
    {
     "name": "stdout",
     "output_type": "stream",
     "text": [
      "CPU times: user 274 ms, sys: 8.02 ms, total: 282 ms\n",
      "Wall time: 297 ms\n"
     ]
    }
   ],
   "source": [
    "%%time\n",
    "# Elimina los datos con precio 0\n",
    "df=df.drop(df[df['Price']==0].index)\n",
    "# Elimina los datos de año de registro anteriores a 1980\n",
    "df=df.drop(df[df['RegistrationYear']<1980].index)\n",
    "# Elimina los datos duplicados\n",
    "df=df.drop_duplicates().reset_index(drop=True)\n",
    "# Elimina los datos nulos\n",
    "df=df.dropna().reset_index(drop=True)"
   ]
  },
  {
   "cell_type": "markdown",
   "metadata": {},
   "source": [
    "- Comprobamos que todas las operaciones se realizaron correctamente."
   ]
  },
  {
   "cell_type": "code",
   "execution_count": 12,
   "metadata": {},
   "outputs": [
    {
     "name": "stdout",
     "output_type": "stream",
     "text": [
      "Comprobamos los datos duplicados en el dataset.\n",
      "El dataset tiene 0 duplicados.\n",
      "\n",
      "Comprobamos si hay datos nulos.\n",
      "Price               0\n",
      "VehicleType         0\n",
      "RegistrationYear    0\n",
      "Gearbox             0\n",
      "Mileage             0\n",
      "FuelType            0\n",
      "NotRepaired         0\n",
      "dtype: int64\n",
      "<class 'pandas.core.frame.DataFrame'>\n",
      "RangeIndex: 184320 entries, 0 to 184319\n",
      "Data columns (total 7 columns):\n",
      " #   Column            Non-Null Count   Dtype \n",
      "---  ------            --------------   ----- \n",
      " 0   Price             184320 non-null  int64 \n",
      " 1   VehicleType       184320 non-null  object\n",
      " 2   RegistrationYear  184320 non-null  int64 \n",
      " 3   Gearbox           184320 non-null  object\n",
      " 4   Mileage           184320 non-null  int64 \n",
      " 5   FuelType          184320 non-null  object\n",
      " 6   NotRepaired       184320 non-null  object\n",
      "dtypes: int64(3), object(4)\n",
      "memory usage: 9.8+ MB\n",
      "CPU times: user 157 ms, sys: 4.02 ms, total: 161 ms\n",
      "Wall time: 171 ms\n"
     ]
    }
   ],
   "source": [
    "%%time\n",
    "print('Comprobamos los datos duplicados en el dataset.')\n",
    "print('El dataset tiene',df.duplicated().sum(),'duplicados.')\n",
    "print(\"\")\n",
    "print('Comprobamos si hay datos nulos.')\n",
    "print(df.isnull().sum())\n",
    "df.info()"
   ]
  },
  {
   "cell_type": "markdown",
   "metadata": {},
   "source": [
    "### Codificacion de los datos\n",
    "\n",
    "- Extraemos un lista con las columnas categoricas del dataframe"
   ]
  },
  {
   "cell_type": "code",
   "execution_count": 13,
   "metadata": {},
   "outputs": [
    {
     "name": "stdout",
     "output_type": "stream",
     "text": [
      "['VehicleType', 'Gearbox', 'FuelType', 'NotRepaired']\n",
      "CPU times: user 11.5 ms, sys: 466 µs, total: 12 ms\n",
      "Wall time: 10.3 ms\n"
     ]
    }
   ],
   "source": [
    "%%time\n",
    "# Extraemos columnas categoricas del DataFrame\n",
    "categorical_columns=df.select_dtypes(include=['object']).columns.tolist()\n",
    "print(categorical_columns)"
   ]
  },
  {
   "cell_type": "markdown",
   "metadata": {},
   "source": [
    "- Realizamos el encodamiento de los datos que son cadenas (Strings) con OrdinalEncoder"
   ]
  },
  {
   "cell_type": "code",
   "execution_count": 14,
   "metadata": {},
   "outputs": [
    {
     "name": "stdout",
     "output_type": "stream",
     "text": [
      "CPU times: user 321 ms, sys: 3.8 ms, total: 325 ms\n",
      "Wall time: 344 ms\n"
     ]
    }
   ],
   "source": [
    "%%time\n",
    "# Realizamos la codificacion a nuestro dataFrame\n",
    "ordinal_encoder = OrdinalEncoder()\n",
    "# Creamos un DataFrame con las columnas OrdinalEncoder\n",
    "df_ordinal=pandas.DataFrame(ordinal_encoder.fit_transform(df),columns=df.columns)"
   ]
  },
  {
   "cell_type": "markdown",
   "metadata": {},
   "source": [
    "- Realizamos el encodamiento de los datos que son cadenas (Strings) con OneHotEncoder"
   ]
  },
  {
   "cell_type": "code",
   "execution_count": 15,
   "metadata": {},
   "outputs": [
    {
     "name": "stdout",
     "output_type": "stream",
     "text": [
      "CPU times: user 290 ms, sys: 24 ms, total: 314 ms\n",
      "Wall time: 324 ms\n"
     ]
    }
   ],
   "source": [
    "%%time\n",
    "# Realizamos la codificacion a nuestro dataFrame\n",
    "one_hot_encoder =OneHotEncoder()\n",
    "# Aplicamos OHE en las columnas categoricas\n",
    "ohe=one_hot_encoder.fit_transform(df[categorical_columns])\n",
    "# Creamos un DataFrame con las columnas OHE\n",
    "ohe_data=pandas.DataFrame(ohe.toarray(),columns=one_hot_encoder.get_feature_names(categorical_columns))\n",
    "# Concatenamos ohe_df con el df original\n",
    "df_ohe=pandas.concat([df,ohe_data],axis=1)\n",
    "# Eliminamos las columnas categoricas originales\n",
    "df_ohe=df_ohe.drop(categorical_columns,axis=1)"
   ]
  },
  {
   "cell_type": "markdown",
   "metadata": {},
   "source": [
    "###  Estandarizado de datos\n",
    "\n",
    "- Creamos una variable de la clase StandardScaler"
   ]
  },
  {
   "cell_type": "code",
   "execution_count": 16,
   "metadata": {},
   "outputs": [
    {
     "name": "stdout",
     "output_type": "stream",
     "text": [
      "CPU times: user 11 µs, sys: 1 µs, total: 12 µs\n",
      "Wall time: 16 µs\n"
     ]
    }
   ],
   "source": [
    "%%time\n",
    "# Estandarizamos los datos con el StandardScaler\n",
    "scaler = StandardScaler()"
   ]
  },
  {
   "cell_type": "markdown",
   "metadata": {},
   "source": [
    "- Realizamos el estandarizado de la data que fue hecha encoding con OrdinalEncoder"
   ]
  },
  {
   "cell_type": "code",
   "execution_count": 17,
   "metadata": {},
   "outputs": [
    {
     "name": "stdout",
     "output_type": "stream",
     "text": [
      "<class 'pandas.core.frame.DataFrame'>\n",
      "RangeIndex: 184320 entries, 0 to 184319\n",
      "Data columns (total 7 columns):\n",
      " #   Column            Non-Null Count   Dtype  \n",
      "---  ------            --------------   -----  \n",
      " 0   Price             184320 non-null  float64\n",
      " 1   VehicleType       184320 non-null  float64\n",
      " 2   RegistrationYear  184320 non-null  float64\n",
      " 3   Gearbox           184320 non-null  float64\n",
      " 4   Mileage           184320 non-null  float64\n",
      " 5   FuelType          184320 non-null  float64\n",
      " 6   NotRepaired       184320 non-null  float64\n",
      "dtypes: float64(7)\n",
      "memory usage: 9.8 MB\n",
      "CPU times: user 71.4 ms, sys: 347 µs, total: 71.8 ms\n",
      "Wall time: 93 ms\n"
     ]
    }
   ],
   "source": [
    "%%time\n",
    "# Realizamos el metodo solo en las columnas no binarias resultantes del encoder(osea todas las columnas)\n",
    "df_ordinal=pandas.DataFrame(scaler.fit_transform(df_ordinal), columns=df_ordinal.columns)\n",
    "# Verificamos el nuevo DataFrame\n",
    "df_ordinal.info()"
   ]
  },
  {
   "cell_type": "markdown",
   "metadata": {},
   "source": [
    "- Realizamos el estandarizado de la data que fue hecha encoding con OneHotEncoder"
   ]
  },
  {
   "cell_type": "code",
   "execution_count": 18,
   "metadata": {},
   "outputs": [
    {
     "name": "stdout",
     "output_type": "stream",
     "text": [
      "<class 'pandas.core.frame.DataFrame'>\n",
      "RangeIndex: 184320 entries, 0 to 184319\n",
      "Data columns (total 26 columns):\n",
      " #   Column                   Non-Null Count   Dtype  \n",
      "---  ------                   --------------   -----  \n",
      " 0   Price                    184320 non-null  float64\n",
      " 1   RegistrationYear         184320 non-null  float64\n",
      " 2   Mileage                  184320 non-null  float64\n",
      " 3   VehicleType_Unknown      184320 non-null  float64\n",
      " 4   VehicleType_bus          184320 non-null  float64\n",
      " 5   VehicleType_convertible  184320 non-null  float64\n",
      " 6   VehicleType_coupe        184320 non-null  float64\n",
      " 7   VehicleType_other        184320 non-null  float64\n",
      " 8   VehicleType_sedan        184320 non-null  float64\n",
      " 9   VehicleType_small        184320 non-null  float64\n",
      " 10  VehicleType_suv          184320 non-null  float64\n",
      " 11  VehicleType_wagon        184320 non-null  float64\n",
      " 12  Gearbox_Unknown          184320 non-null  float64\n",
      " 13  Gearbox_auto             184320 non-null  float64\n",
      " 14  Gearbox_manual           184320 non-null  float64\n",
      " 15  FuelType_Unknown         184320 non-null  float64\n",
      " 16  FuelType_cng             184320 non-null  float64\n",
      " 17  FuelType_electric        184320 non-null  float64\n",
      " 18  FuelType_gasoline        184320 non-null  float64\n",
      " 19  FuelType_hybrid          184320 non-null  float64\n",
      " 20  FuelType_lpg             184320 non-null  float64\n",
      " 21  FuelType_other           184320 non-null  float64\n",
      " 22  FuelType_petrol          184320 non-null  float64\n",
      " 23  NotRepaired_Unknown      184320 non-null  float64\n",
      " 24  NotRepaired_no           184320 non-null  float64\n",
      " 25  NotRepaired_yes          184320 non-null  float64\n",
      "dtypes: float64(26)\n",
      "memory usage: 36.6 MB\n",
      "CPU times: user 83.7 ms, sys: 32.3 ms, total: 116 ms\n",
      "Wall time: 126 ms\n"
     ]
    }
   ],
   "source": [
    "%%time\n",
    "# Realizamos el metodo solo en las columnas no binarias resultantes del encoder(osea todas las columnas)\n",
    "df_ohe=pandas.DataFrame(scaler.fit_transform(df_ohe), columns=df_ohe.columns)\n",
    "# Verificamos el nuevo DataFrame\n",
    "df_ohe.info()"
   ]
  },
  {
   "cell_type": "markdown",
   "metadata": {},
   "source": [
    "## Entrenamiento de los modelos\n",
    "\n",
    "- Creamos los conjuntos de entrenamiento, validacion y pruebas con la proporcion 3:1:1 (60,20,20) para los datos hechos con OrdinalEncoder"
   ]
  },
  {
   "cell_type": "code",
   "execution_count": 19,
   "metadata": {},
   "outputs": [
    {
     "name": "stdout",
     "output_type": "stream",
     "text": [
      "CPU times: user 38.8 ms, sys: 3.83 ms, total: 42.6 ms\n",
      "Wall time: 53 ms\n"
     ]
    }
   ],
   "source": [
    "%%time\n",
    "# Manera investigada para dividir en 3 conjuntos con proporcion 3:1:1.\n",
    "# Obtenemos el conjunto de 'test' y dejamos otro conjunto llamado 'rest'.\n",
    "rest_ordinal,test_ordinal=train_test_split(df_ordinal,test_size=0.2,random_state=54321)\n",
    "# Del conjunto 'rest' obtendemos el conjunto de entrenamiento y validacion.\n",
    "train_ordinal,valid_ordinal=train_test_split(rest_ordinal,test_size=0.25,random_state=54321)"
   ]
  },
  {
   "cell_type": "markdown",
   "metadata": {},
   "source": [
    "- Creamos los conjuntos de entrenamiento, validacion y pruebas con la proporcion 3:1:1 (60,20,20) para los datos hechos con OrdinalEncoder"
   ]
  },
  {
   "cell_type": "code",
   "execution_count": 20,
   "metadata": {},
   "outputs": [
    {
     "name": "stdout",
     "output_type": "stream",
     "text": [
      "CPU times: user 82.4 ms, sys: 8.03 ms, total: 90.4 ms\n",
      "Wall time: 97.8 ms\n"
     ]
    }
   ],
   "source": [
    "%%time\n",
    "# Manera investigada para dividir en 3 conjuntos con proporcion 3:1:1.\n",
    "# Obtenemos el conjunto de 'test' y dejamos otro conjunto llamado 'rest'.\n",
    "rest_ohe,test_ohe=train_test_split(df_ohe,test_size=0.2,random_state=54321)\n",
    "# Del conjunto 'rest' obtendemos el conjunto de entrenamiento y validacion.\n",
    "train_ohe,valid_ohe=train_test_split(rest_ohe,test_size=0.25,random_state=54321)"
   ]
  },
  {
   "cell_type": "markdown",
   "metadata": {},
   "source": [
    "- En los conjuntos separamos las caracteristicas (features) y el objetivo (target) para los conjuntos de OrdinalEncoder."
   ]
  },
  {
   "cell_type": "code",
   "execution_count": 21,
   "metadata": {},
   "outputs": [
    {
     "name": "stdout",
     "output_type": "stream",
     "text": [
      "CPU times: user 2.7 ms, sys: 4.06 ms, total: 6.75 ms\n",
      "Wall time: 6.57 ms\n"
     ]
    }
   ],
   "source": [
    "%%time\n",
    "#Entrenamiento\n",
    "features_train_ordinal=train_ordinal.drop(['Price'],axis=1)\n",
    "target_train_ordinal=train_ordinal['Price']\n",
    "#Validacion\n",
    "features_valid_ordinal=valid_ordinal.drop(['Price'],axis=1)\n",
    "target_valid_ordinal= valid_ordinal['Price']\n",
    "#Prueba\n",
    "features_test_ordinal=test_ordinal.drop(['Price'],axis=1)\n",
    "target_test_ordinal=test_ordinal['Price']"
   ]
  },
  {
   "cell_type": "markdown",
   "metadata": {},
   "source": [
    "- En los conjuntos separamos las caracteristicas (features) y el objetivo (target) para los conjuntos de OneHotEncoder."
   ]
  },
  {
   "cell_type": "code",
   "execution_count": 22,
   "metadata": {},
   "outputs": [
    {
     "name": "stdout",
     "output_type": "stream",
     "text": [
      "CPU times: user 7.42 ms, sys: 8.31 ms, total: 15.7 ms\n",
      "Wall time: 14.5 ms\n"
     ]
    }
   ],
   "source": [
    "%%time\n",
    "#Entrenamiento\n",
    "features_train_ohe=train_ohe.drop(['Price'],axis=1)\n",
    "target_train_ohe=train_ohe['Price']\n",
    "#Validacion\n",
    "features_valid_ohe=valid_ohe.drop(['Price'],axis=1)\n",
    "target_valid_ohe= valid_ohe['Price']\n",
    "#Prueba\n",
    "features_test_ohe=test_ohe.drop(['Price'],axis=1)\n",
    "target_test_ohe=test_ohe['Price']"
   ]
  },
  {
   "cell_type": "markdown",
   "metadata": {},
   "source": [
    "### Modelo: Arbol de decisión\n",
    "\n",
    "- Nuestro primer modelo a entrenar sera el arbol de decisión con los conjuntos de OrdinalEncoder.."
   ]
  },
  {
   "cell_type": "code",
   "execution_count": 23,
   "metadata": {},
   "outputs": [
    {
     "name": "stdout",
     "output_type": "stream",
     "text": [
      "El RECM del mejor modelo en el conjunto de validación: 0.8213823509796854 y mejor profundidad: 0\n",
      "La exactitud del mejor modelo en el conjunto de pruebas es de : 0.5519236868107\n",
      "CPU times: user 368 ms, sys: 4.06 ms, total: 372 ms\n",
      "Wall time: 398 ms\n"
     ]
    }
   ],
   "source": [
    "%%time\n",
    "# Declaramos variables para medir mce y exactitud de los modelos.\n",
    "best_score_tree=0\n",
    "best_depth_tree=0\n",
    "best_mse_tree=0\n",
    "for depth_tree in range(1,6): # Seleccionamos el rango del hiperparámetro.\n",
    "    model_tree= DecisionTreeRegressor(max_depth=depth_tree,random_state=12345) # Declaramos el modelo.\n",
    "    model_tree.fit(features_train_ordinal,target_train_ordinal) # Entrenamos el modelo en el conjunto de entrenamiento.\n",
    "    predictions_valid_tree = model_tree.predict(features_valid_ordinal) # Obtenemos las predicciones del modelo en el conjunto de validación.\n",
    "    mse_tree =mean_squared_error(target_valid_ordinal,predictions_valid_tree)**0.5# calcula la RECM en el conjunto de validación\n",
    "    score_tree= model_tree.score(features_test_ordinal,target_test_ordinal) # Calculamos la puntuacion de accuracy en el conjunto de test.\n",
    "    if mse_tree > best_mse_tree:\n",
    "        best_mse_tree = mse_tree\n",
    "        best_depth__tree = depth_tree\n",
    "    if score_tree>best_score_tree:\n",
    "        best_score_tree=score_tree # Guardamos la mejor puntuacion de accurracy en el conjunto de validación.\n",
    "\n",
    "print(\"El RECM del mejor modelo en el conjunto de validación:\", best_mse_tree,\"y mejor profundidad:\", best_depth_tree)\n",
    "\n",
    "print(\"La exactitud del mejor modelo en el conjunto de pruebas es de : {}\".format(best_score_tree))"
   ]
  },
  {
   "cell_type": "markdown",
   "metadata": {},
   "source": [
    "### Modelo: Bosque aleatorio\n",
    "\n",
    "- Nuestro segundo modelo a entrenar sera el bosque aleatorio con los conjuntos de OrdinalEncoder.."
   ]
  },
  {
   "cell_type": "code",
   "execution_count": 24,
   "metadata": {},
   "outputs": [
    {
     "name": "stdout",
     "output_type": "stream",
     "text": [
      "El RECM del mejor modelo en el conjunto de validación: 0.8213765420349456 con estimadores de: 5 y mejor profundidad: 1\n",
      "La exactitud del mejor modelo en el conjunto de pruebas con n_estimators(estimadores) 10) es de : 0.5243334473212868\n",
      "CPU times: user 4.78 s, sys: 0 ns, total: 4.78 s\n",
      "Wall time: 4.8 s\n"
     ]
    }
   ],
   "source": [
    "%%time\n",
    "# Declaramos variables para medir mce y exactitud de los modelos.\n",
    "best_score_forest=0\n",
    "best_est_score_forest=0\n",
    "best_est_mse_forest=0\n",
    "best_depth_forest=0\n",
    "best_mse_forest=0\n",
    "for est_forest in range(5,20,5): # Entrenaremos 20 modelos en intervalos de 5\n",
    "    for depth_forest in range (1,5): # La profundidad de los arboles sera de 1 a 5\n",
    "        model_forest=RandomForestRegressor(random_state=54321,n_estimators=est_forest, max_depth=depth_forest) # Configuramos el numero de arboles.\n",
    "        model_forest.fit(features_train_ordinal,target_train_ordinal) # Entrenamos el modelo con el conjunto de entrenamiento.\n",
    "        predictions_valid_forest= model_forest.predict(features_valid_ordinal) # Realizamos prediciones con el conjunto de validación.\n",
    "        mse_forest=mean_squared_error(target_valid_ordinal,predictions_valid_forest)**0.5 # Calculamos el ECM\n",
    "        score_forest= model_forest.score(features_test_ordinal,target_test_ordinal) # Calculamos la puntuacion de accuracy en el conjunto de test.\n",
    "        if score_forest>best_score_forest:\n",
    "            best_score_forest=score_forest # Guardamos la mejor puntuacion de accurracy en el conjunto de validación.\n",
    "            best_est_score_forest=est_forest # Guardamos el número de estimadores que corresponden a la mejor punturación de exactitud.\n",
    "        if mse_forest>best_mse_forest:\n",
    "            best_mse_forest=mse_forest # Guardamos la mejor prueba de MCE.\n",
    "            best_est_mse_forest=est_forest # Guardamos el número de estimadores que corresponden a la mejor prueba de MCE.\n",
    "            best_depth_forest= depth_forest # Guardamos la mejor profundidad para los arboles del bosque.\n",
    "\n",
    "print(\"El RECM del mejor modelo en el conjunto de validación:\", best_mse_forest, \"con estimadores de:\", best_est_mse_forest, \"y mejor profundidad:\", best_depth_forest)\n",
    "\n",
    "print(\"La exactitud del mejor modelo en el conjunto de pruebas con n_estimators(estimadores) {}) es de : {}\".format(best_est_score_forest, best_score_forest))"
   ]
  },
  {
   "cell_type": "markdown",
   "metadata": {},
   "source": [
    "### Modelo: Regresion lineal\n",
    "\n",
    "- Nuestro ultimo modelo a entrenar sera el modelo de regresion lineal los conjuntos de OneHotEncoder.."
   ]
  },
  {
   "cell_type": "code",
   "execution_count": 25,
   "metadata": {},
   "outputs": [
    {
     "name": "stdout",
     "output_type": "stream",
     "text": [
      "El RECM del modelo es: 0.8112262428249876\n",
      "CPU times: user 136 ms, sys: 37.8 ms, total: 173 ms\n",
      "Wall time: 134 ms\n"
     ]
    }
   ],
   "source": [
    "%%time\n",
    "model_lr= LinearRegression()\n",
    "model_lr.fit(features_train_ohe,target_train_ohe)\n",
    "predictions_valid_lr=model_lr.predict(features_valid_ohe)# Obtenemos las predicciones del modelo en el conjunto de validación.\n",
    "rmse_lr=mean_squared_error(target_valid_ohe,predictions_valid_lr)**0.5\n",
    "print('El RECM del modelo es:',rmse_lr)"
   ]
  },
  {
   "cell_type": "markdown",
   "metadata": {},
   "source": [
    "### Modelo: Regresion LGBM\n",
    "\n",
    "- El siguiente modelo a entrenar sera el modelo LGBMRegressor con los conjuntos de OrdinalEncoder."
   ]
  },
  {
   "cell_type": "code",
   "execution_count": 26,
   "metadata": {},
   "outputs": [
    {
     "name": "stdout",
     "output_type": "stream",
     "text": [
      "RECM del conjunto de validacion: 0.569797270664516\n",
      "RECM del conjunto de validacion: 0.5714442709591238\n",
      "CPU times: user 1min 12s, sys: 692 ms, total: 1min 13s\n",
      "Wall time: 1min 13s\n"
     ]
    }
   ],
   "source": [
    "%%time\n",
    "# Creamos una instancia del regresor LightGBM con la métrica RMSE.\n",
    "model_lgbm = LGBMRegressor(metric='rmse') \n",
    "\n",
    "# Entrenamos el modelo utilizando los datos de entrenamiento.\n",
    "model_lgbm.fit(features_train_ordinal, target_train_ordinal) \n",
    "  \n",
    "# Hacer predicciones sobre los datos de validacion y test.\n",
    "predict_lgbm_valid = model_lgbm.predict(features_valid_ordinal) \n",
    "predict_lgbm_test = model_lgbm.predict(features_test_ordinal) \n",
    "# Obtenemos el RMSE\n",
    "rmse_lgbm_valid = mean_squared_error(target_valid_ordinal,predict_lgbm_valid)**0.5\n",
    "rmse_lgbm_test = mean_squared_error(target_test_ordinal,predict_lgbm_test)**0.5 \n",
    "# Mostramos los RMSE\n",
    "print('RECM del conjunto de validacion:',rmse_lgbm_valid)\n",
    "print('RECM del conjunto de validacion:',rmse_lgbm_test)"
   ]
  },
  {
   "cell_type": "markdown",
   "metadata": {},
   "source": [
    "### Modelo: Regresion CatBoost\n",
    "\n",
    "- El siguiente modelo a entrenar sera el modelo CatBoostRegressor con los conjuntos de OrdinalEncoder."
   ]
  },
  {
   "cell_type": "code",
   "execution_count": 27,
   "metadata": {},
   "outputs": [
    {
     "name": "stdout",
     "output_type": "stream",
     "text": [
      "Learning rate set to 0.086117\n",
      "0:\tlearn: 0.9562291\ttotal: 68.2ms\tremaining: 1m 8s\n",
      "100:\tlearn: 0.5749550\ttotal: 1.98s\tremaining: 17.6s\n",
      "200:\tlearn: 0.5674267\ttotal: 3.89s\tremaining: 15.5s\n",
      "300:\tlearn: 0.5643445\ttotal: 5.91s\tremaining: 13.7s\n",
      "400:\tlearn: 0.5620539\ttotal: 7.96s\tremaining: 11.9s\n",
      "500:\tlearn: 0.5604993\ttotal: 9.96s\tremaining: 9.92s\n",
      "600:\tlearn: 0.5592314\ttotal: 12s\tremaining: 7.99s\n",
      "700:\tlearn: 0.5581068\ttotal: 13.8s\tremaining: 5.88s\n",
      "800:\tlearn: 0.5570836\ttotal: 15.5s\tremaining: 3.86s\n",
      "900:\tlearn: 0.5562830\ttotal: 17.2s\tremaining: 1.89s\n",
      "999:\tlearn: 0.5555291\ttotal: 18.9s\tremaining: 0us\n",
      "RECM del conjunto de validacion: 0.5678028654364454\n",
      "RECM del conjunto de validacion: 0.5691080517922429\n",
      "CPU times: user 18.9 s, sys: 79.2 ms, total: 18.9 s\n",
      "Wall time: 19.3 s\n"
     ]
    }
   ],
   "source": [
    "%%time\n",
    "# Creamos una instancia del CatBoostRegressor con RMSE como la loss function \n",
    "model_catboost = CatBoostRegressor(loss_function='RMSE') \n",
    "  \n",
    "# Ajustar el modelo a los datos de entrenamiento con un registro detallado cada 100 iteraciones \n",
    "model_catboost.fit(features_train_ordinal, target_train_ordinal, verbose=100)\n",
    "\n",
    "# Hacer predicciones sobre los datos de validacion y test.\n",
    "predict_cat_valid = model_catboost.predict(features_valid_ordinal) \n",
    "predict_cat_test = model_catboost.predict(features_test_ordinal) \n",
    "# Obtenemos el RMSE\n",
    "rmse_cat_valid = mean_squared_error(target_valid_ordinal,predict_cat_valid)**0.5\n",
    "rmse_cat_test = mean_squared_error(target_test_ordinal,predict_cat_test)**0.5 \n",
    "# Mostramos los RMSE\n",
    "print('RECM del conjunto de validacion:',rmse_cat_valid)\n",
    "print('RECM del conjunto de validacion:',rmse_cat_test)"
   ]
  },
  {
   "cell_type": "markdown",
   "metadata": {},
   "source": [
    "### Modelo:  XGBoost\n",
    "\n",
    "- El ultimo modelo a entrenar sera el modelo XGBoost con su propio encoding que es transformando sus columnas 'object' en 'category'.\n",
    "\n",
    "- Comencamos copiando el DataFrame Original en uno nuevo para realizar los conjuntos de entrenamiento."
   ]
  },
  {
   "cell_type": "code",
   "execution_count": 28,
   "metadata": {},
   "outputs": [
    {
     "name": "stdout",
     "output_type": "stream",
     "text": [
      "<class 'pandas.core.frame.DataFrame'>\n",
      "RangeIndex: 184320 entries, 0 to 184319\n",
      "Data columns (total 7 columns):\n",
      " #   Column            Non-Null Count   Dtype \n",
      "---  ------            --------------   ----- \n",
      " 0   Price             184320 non-null  int64 \n",
      " 1   VehicleType       184320 non-null  object\n",
      " 2   RegistrationYear  184320 non-null  int64 \n",
      " 3   Gearbox           184320 non-null  object\n",
      " 4   Mileage           184320 non-null  int64 \n",
      " 5   FuelType          184320 non-null  object\n",
      " 6   NotRepaired       184320 non-null  object\n",
      "dtypes: int64(3), object(4)\n",
      "memory usage: 9.8+ MB\n",
      "CPU times: user 41.2 ms, sys: 0 ns, total: 41.2 ms\n",
      "Wall time: 38.9 ms\n"
     ]
    }
   ],
   "source": [
    "%%time\n",
    "df_xgboost=df\n",
    "df_xgboost.info()"
   ]
  },
  {
   "cell_type": "markdown",
   "metadata": {},
   "source": [
    "- Transformamos las columnas 'object' en 'category'"
   ]
  },
  {
   "cell_type": "code",
   "execution_count": 29,
   "metadata": {},
   "outputs": [
    {
     "name": "stdout",
     "output_type": "stream",
     "text": [
      "CPU times: user 69.9 ms, sys: 0 ns, total: 69.9 ms\n",
      "Wall time: 91.8 ms\n"
     ]
    }
   ],
   "source": [
    "%%time\n",
    "df_xgboost['VehicleType'] = df_xgboost['VehicleType'].astype('category')\n",
    "df_xgboost['Gearbox'] = df_xgboost['Gearbox'].astype('category')\n",
    "df_xgboost['FuelType'] = df_xgboost['FuelType'].astype('category')\n",
    "df_xgboost['NotRepaired'] = df_xgboost['NotRepaired'].astype('category')"
   ]
  },
  {
   "cell_type": "markdown",
   "metadata": {},
   "source": [
    "- Realziamos los conjuntos de entrenamiento para el modelo."
   ]
  },
  {
   "cell_type": "code",
   "execution_count": 30,
   "metadata": {},
   "outputs": [
    {
     "name": "stdout",
     "output_type": "stream",
     "text": [
      "CPU times: user 35.7 ms, sys: 39 µs, total: 35.7 ms\n",
      "Wall time: 46 ms\n"
     ]
    }
   ],
   "source": [
    "%%time\n",
    "# Manera investigada para dividir en 3 conjuntos con proporcion 3:1:1.\n",
    "# Obtenemos el conjunto de 'test' y dejamos otro conjunto llamado 'rest'.\n",
    "rest_xgboost,test_xgboost=train_test_split(df_xgboost,test_size=0.2,random_state=54321)\n",
    "# Del conjunto 'rest' obtendemos el conjunto de entrenamiento y validacion.\n",
    "train_xgboost,valid_xgboost=train_test_split(rest_xgboost,test_size=0.25,random_state=54321)"
   ]
  },
  {
   "cell_type": "markdown",
   "metadata": {},
   "source": [
    "- Separamos caracteristicas y objetivos de los conjuntos obtenidos."
   ]
  },
  {
   "cell_type": "code",
   "execution_count": 31,
   "metadata": {},
   "outputs": [
    {
     "name": "stdout",
     "output_type": "stream",
     "text": [
      "CPU times: user 5.2 ms, sys: 16 µs, total: 5.21 ms\n",
      "Wall time: 4.02 ms\n"
     ]
    }
   ],
   "source": [
    "%%time\n",
    "#Entrenamiento\n",
    "features_train_xgboost=train_xgboost.drop(['Price'],axis=1)\n",
    "target_train_xgboost=train_xgboost['Price']\n",
    "#Validacion\n",
    "features_valid_xgboost=valid_xgboost.drop(['Price'],axis=1)\n",
    "target_valid_xgboost= valid_xgboost['Price']\n",
    "#Prueba\n",
    "features_test_xgboost=test_xgboost.drop(['Price'],axis=1)\n",
    "target_test_xgboost=test_xgboost['Price']"
   ]
  },
  {
   "cell_type": "markdown",
   "metadata": {},
   "source": [
    "- Comenzamos con el entrenamiento del modelo donde hay que hacer cierta modificacion en los conjuntos para que puedan entrenar al modelo."
   ]
  },
  {
   "cell_type": "code",
   "execution_count": 32,
   "metadata": {},
   "outputs": [
    {
     "name": "stdout",
     "output_type": "stream",
     "text": [
      "RECM del modelo con el conjunto de validacion es: 4752078.646443685\n",
      "RECM del modelo con el conjunto de prueba es: 4878473.679633247\n",
      "CPU times: user 6.72 s, sys: 50.7 ms, total: 6.77 s\n",
      "Wall time: 6.78 s\n"
     ]
    }
   ],
   "source": [
    "%%time\n",
    "# Convertimos el dataset en una DMatrix(Segun la documentacion), recordemos que ya no tenemos columnas categoricas.\n",
    "\n",
    "xgb_train=xgboost.DMatrix(features_train_xgboost,target_train_xgboost,enable_categorical=True)\n",
    "xgb_valid=xgboost.DMatrix(features_valid_xgboost,target_valid_xgboost,enable_categorical=True)\n",
    "xgb_test=xgboost.DMatrix(features_test_xgboost,target_test_xgboost,enable_categorical=True)\n",
    "\n",
    "# Diccionario de parametros que utilizaremos en el modelo\n",
    "n=50\n",
    "params={'objective': 'reg:squarederror','max_depth': 3,'learning_rate': 0.1,}\n",
    "\n",
    "# Creamos una instancia del XGBoost\n",
    "model_xgboost = xgboost.train(params=params,dtrain=xgb_train,num_boost_round=n) \n",
    "\n",
    "# Hacer predicciones sobre los datos de validacion y test.\n",
    "predict_xgb_valid = model_xgboost.predict(xgb_valid)\n",
    "predict_xgb_test = model_xgboost.predict(xgb_test)\n",
    "\n",
    "# Transformamos en entero para un calculo mas sencillo\n",
    "predict_xgb_valid = predict_xgb_valid.astype(int)\n",
    "predict_xgb_test = predict_xgb_test.astype(int)\n",
    "\n",
    "# Obtenemos la exactitud del modelo\n",
    "rmse_xgboost_valid = mean_squared_error(target_valid_xgboost,predict_xgb_valid)*0.5\n",
    "rmse_xgboost_test = mean_squared_error(target_test_xgboost,predict_xgb_test)*0.5\n",
    "# Mostramos los RMSE\n",
    "print('RECM del modelo con el conjunto de validacion es:', rmse_xgboost_valid)\n",
    "print('RECM del modelo con el conjunto de prueba es:', rmse_xgboost_test)"
   ]
  },
  {
   "cell_type": "markdown",
   "metadata": {},
   "source": [
    "## Análisis del modelo\n",
    "\n",
    "- Podemos observar un resumen de todos los RECM de los modelos entrenados para su comparacion sencilla de un solo vistazo."
   ]
  },
  {
   "cell_type": "code",
   "execution_count": 33,
   "metadata": {},
   "outputs": [
    {
     "name": "stdout",
     "output_type": "stream",
     "text": [
      "El RECM del modelo Árbol de decision en el conjunto de validación: 0.8213823509796854 y mejor profundidad: 0\n",
      "La exactitud del modelo  Árbol de decision en el conjunto de pruebas es de : 0.5519236868107\n",
      "\n",
      "El RECM del modelo bosque aleatorio en el conjunto de validación: 0.8213765420349456 con estimadores de: 5 y mejor profundidad: 1\n",
      "La exactitud del modelo bosque aleatorio en el conjunto de pruebas con n_estimators(estimadores) 10) es de : 0.5243334473212868\n",
      "\n",
      "El RECM del modelo es: 0.8112262428249876\n",
      "\n",
      "RECM del conjunto de validacion: 0.569797270664516\n",
      "RECM del conjunto de validacion: 0.5714442709591238\n",
      "\n",
      "RECM del conjunto de validacion: 0.5678028654364454\n",
      "RECM del conjunto de validacion: 0.5691080517922429\n",
      "\n",
      "RECM del modelo con el conjunto de validacion es: 4752078.646443685\n",
      "RECM del modelo con el conjunto de prueba es: 4878473.679633247\n",
      "CPU times: user 440 µs, sys: 6 µs, total: 446 µs\n",
      "Wall time: 418 µs\n"
     ]
    }
   ],
   "source": [
    "%%time\n",
    "print(\"El RECM del modelo Árbol de decision en el conjunto de validación:\", best_mse_tree,\"y mejor profundidad:\", best_depth_tree)\n",
    "print(\"La exactitud del modelo  Árbol de decision en el conjunto de pruebas es de : {}\".format(best_score_tree))\n",
    "print()\n",
    "print(\"El RECM del modelo bosque aleatorio en el conjunto de validación:\", best_mse_forest, \"con estimadores de:\", best_est_mse_forest, \"y mejor profundidad:\", best_depth_forest)\n",
    "print(\"La exactitud del modelo bosque aleatorio en el conjunto de pruebas con n_estimators(estimadores) {}) es de : {}\".format(best_est_score_forest, best_score_forest))\n",
    "print()\n",
    "print('El RECM del modelo es:',rmse_lr)\n",
    "print()\n",
    "print('RECM del conjunto de validacion:',rmse_lgbm_valid)\n",
    "print('RECM del conjunto de validacion:',rmse_lgbm_test)\n",
    "print()\n",
    "print('RECM del conjunto de validacion:',rmse_cat_valid)\n",
    "print('RECM del conjunto de validacion:',rmse_cat_test)\n",
    "print()\n",
    "print('RECM del modelo con el conjunto de validacion es:', rmse_xgboost_valid)\n",
    "print('RECM del modelo con el conjunto de prueba es:', rmse_xgboost_test)"
   ]
  }
 ],
 "metadata": {
  "ExecuteTimeLog": [
   {
    "duration": 5721,
    "start_time": "2024-05-21T19:19:55.994Z"
   },
   {
    "duration": 483,
    "start_time": "2024-05-21T19:20:03.737Z"
   },
   {
    "duration": 932,
    "start_time": "2024-05-21T19:20:10.394Z"
   },
   {
    "duration": 178,
    "start_time": "2024-05-21T19:20:12.072Z"
   },
   {
    "duration": 27,
    "start_time": "2024-05-21T19:23:11.694Z"
   },
   {
    "duration": 487,
    "start_time": "2024-05-21T19:25:22.563Z"
   },
   {
    "duration": 193,
    "start_time": "2024-05-21T19:25:49.862Z"
   },
   {
    "duration": 1402,
    "start_time": "2024-05-21T19:32:37.393Z"
   },
   {
    "duration": 727,
    "start_time": "2024-05-21T19:32:38.809Z"
   },
   {
    "duration": 148,
    "start_time": "2024-05-21T19:32:39.539Z"
   },
   {
    "duration": 38,
    "start_time": "2024-05-21T19:32:39.690Z"
   },
   {
    "duration": 416,
    "start_time": "2024-05-21T19:32:39.732Z"
   },
   {
    "duration": 140,
    "start_time": "2024-05-21T19:32:40.150Z"
   },
   {
    "duration": 477,
    "start_time": "2024-05-21T19:32:40.293Z"
   },
   {
    "duration": 1335,
    "start_time": "2024-05-21T19:32:40.773Z"
   },
   {
    "duration": 0,
    "start_time": "2024-05-21T19:32:42.112Z"
   },
   {
    "duration": 0,
    "start_time": "2024-05-21T19:32:42.114Z"
   },
   {
    "duration": 102,
    "start_time": "2024-05-21T19:32:53.462Z"
   },
   {
    "duration": 109,
    "start_time": "2024-05-21T19:33:00.296Z"
   },
   {
    "duration": 660,
    "start_time": "2024-05-21T19:33:01.148Z"
   },
   {
    "duration": 1388,
    "start_time": "2024-05-21T19:33:35.006Z"
   },
   {
    "duration": 751,
    "start_time": "2024-05-21T19:33:36.398Z"
   },
   {
    "duration": 155,
    "start_time": "2024-05-21T19:33:37.152Z"
   },
   {
    "duration": 27,
    "start_time": "2024-05-21T19:33:37.311Z"
   },
   {
    "duration": 422,
    "start_time": "2024-05-21T19:33:37.342Z"
   },
   {
    "duration": 145,
    "start_time": "2024-05-21T19:33:37.768Z"
   },
   {
    "duration": 487,
    "start_time": "2024-05-21T19:33:37.916Z"
   },
   {
    "duration": 116,
    "start_time": "2024-05-21T19:33:38.405Z"
   },
   {
    "duration": 148,
    "start_time": "2024-05-21T19:33:38.524Z"
   },
   {
    "duration": 538,
    "start_time": "2024-05-21T19:33:38.674Z"
   },
   {
    "duration": 126,
    "start_time": "2024-05-21T19:33:39.215Z"
   },
   {
    "duration": 1390,
    "start_time": "2024-05-21T19:40:52.584Z"
   },
   {
    "duration": 732,
    "start_time": "2024-05-21T19:40:53.978Z"
   },
   {
    "duration": 171,
    "start_time": "2024-05-21T19:40:54.715Z"
   },
   {
    "duration": 40,
    "start_time": "2024-05-21T19:40:54.889Z"
   },
   {
    "duration": 429,
    "start_time": "2024-05-21T19:40:54.937Z"
   },
   {
    "duration": 161,
    "start_time": "2024-05-21T19:40:55.369Z"
   },
   {
    "duration": 506,
    "start_time": "2024-05-21T19:40:55.533Z"
   },
   {
    "duration": 121,
    "start_time": "2024-05-21T19:40:56.042Z"
   },
   {
    "duration": 714,
    "start_time": "2024-05-21T19:40:56.167Z"
   },
   {
    "duration": 0,
    "start_time": "2024-05-21T19:40:56.884Z"
   },
   {
    "duration": 0,
    "start_time": "2024-05-21T19:40:56.886Z"
   },
   {
    "duration": 0,
    "start_time": "2024-05-21T19:40:56.888Z"
   },
   {
    "duration": 2775,
    "start_time": "2024-05-21T19:42:17.571Z"
   },
   {
    "duration": 374,
    "start_time": "2024-05-21T19:42:21.367Z"
   },
   {
    "duration": 113,
    "start_time": "2024-05-21T19:42:24.676Z"
   },
   {
    "duration": 135,
    "start_time": "2024-05-21T19:42:28.016Z"
   },
   {
    "duration": 5224,
    "start_time": "2024-05-22T03:36:39.407Z"
   },
   {
    "duration": 782,
    "start_time": "2024-05-22T03:36:44.635Z"
   },
   {
    "duration": 152,
    "start_time": "2024-05-22T03:36:45.420Z"
   },
   {
    "duration": 35,
    "start_time": "2024-05-22T03:36:45.578Z"
   },
   {
    "duration": 456,
    "start_time": "2024-05-22T03:36:45.616Z"
   },
   {
    "duration": 148,
    "start_time": "2024-05-22T03:36:46.075Z"
   },
   {
    "duration": 514,
    "start_time": "2024-05-22T03:36:46.226Z"
   },
   {
    "duration": 121,
    "start_time": "2024-05-22T03:36:46.744Z"
   },
   {
    "duration": 2804,
    "start_time": "2024-05-22T03:36:46.868Z"
   },
   {
    "duration": 407,
    "start_time": "2024-05-22T03:36:49.676Z"
   },
   {
    "duration": 121,
    "start_time": "2024-05-22T03:36:50.087Z"
   },
   {
    "duration": 123,
    "start_time": "2024-05-22T03:36:50.212Z"
   },
   {
    "duration": 225,
    "start_time": "2024-05-22T03:36:50.338Z"
   },
   {
    "duration": 47,
    "start_time": "2024-05-22T03:36:50.567Z"
   },
   {
    "duration": 428,
    "start_time": "2024-05-22T03:36:50.617Z"
   },
   {
    "duration": 0,
    "start_time": "2024-05-22T03:36:51.048Z"
   },
   {
    "duration": 3154,
    "start_time": "2024-05-22T03:37:11.113Z"
   },
   {
    "duration": 1395,
    "start_time": "2024-05-22T03:37:59.219Z"
   },
   {
    "duration": 750,
    "start_time": "2024-05-22T03:38:00.617Z"
   },
   {
    "duration": 165,
    "start_time": "2024-05-22T03:38:01.371Z"
   },
   {
    "duration": 26,
    "start_time": "2024-05-22T03:38:01.540Z"
   },
   {
    "duration": 488,
    "start_time": "2024-05-22T03:38:01.569Z"
   },
   {
    "duration": 146,
    "start_time": "2024-05-22T03:38:02.060Z"
   },
   {
    "duration": 495,
    "start_time": "2024-05-22T03:38:02.208Z"
   },
   {
    "duration": 125,
    "start_time": "2024-05-22T03:38:02.706Z"
   },
   {
    "duration": 4,
    "start_time": "2024-05-22T03:38:02.834Z"
   },
   {
    "duration": 532,
    "start_time": "2024-05-22T03:38:02.843Z"
   },
   {
    "duration": 147,
    "start_time": "2024-05-22T03:38:03.377Z"
   },
   {
    "duration": 128,
    "start_time": "2024-05-22T03:38:03.526Z"
   },
   {
    "duration": 290,
    "start_time": "2024-05-22T03:38:03.657Z"
   },
   {
    "duration": 70,
    "start_time": "2024-05-22T03:38:03.951Z"
   },
   {
    "duration": 357,
    "start_time": "2024-05-22T03:38:04.023Z"
   },
   {
    "duration": 0,
    "start_time": "2024-05-22T03:38:04.383Z"
   },
   {
    "duration": 1417,
    "start_time": "2024-05-22T03:39:11.625Z"
   },
   {
    "duration": 721,
    "start_time": "2024-05-22T03:39:13.045Z"
   },
   {
    "duration": 151,
    "start_time": "2024-05-22T03:39:13.769Z"
   },
   {
    "duration": 28,
    "start_time": "2024-05-22T03:39:13.923Z"
   },
   {
    "duration": 486,
    "start_time": "2024-05-22T03:39:13.956Z"
   },
   {
    "duration": 142,
    "start_time": "2024-05-22T03:39:14.445Z"
   },
   {
    "duration": 476,
    "start_time": "2024-05-22T03:39:14.600Z"
   },
   {
    "duration": 111,
    "start_time": "2024-05-22T03:39:15.079Z"
   },
   {
    "duration": 2862,
    "start_time": "2024-05-22T03:39:15.193Z"
   },
   {
    "duration": 491,
    "start_time": "2024-05-22T03:39:18.060Z"
   },
   {
    "duration": 107,
    "start_time": "2024-05-22T03:39:18.555Z"
   },
   {
    "duration": 138,
    "start_time": "2024-05-22T03:39:18.665Z"
   },
   {
    "duration": 213,
    "start_time": "2024-05-22T03:39:18.807Z"
   },
   {
    "duration": 39,
    "start_time": "2024-05-22T03:39:19.025Z"
   },
   {
    "duration": 3278,
    "start_time": "2024-05-22T03:39:19.066Z"
   },
   {
    "duration": 0,
    "start_time": "2024-05-22T03:39:22.347Z"
   },
   {
    "duration": 3066,
    "start_time": "2024-05-22T03:40:03.032Z"
   },
   {
    "duration": 1403,
    "start_time": "2024-05-22T03:43:50.017Z"
   },
   {
    "duration": 734,
    "start_time": "2024-05-22T03:43:51.423Z"
   },
   {
    "duration": 155,
    "start_time": "2024-05-22T03:43:52.160Z"
   },
   {
    "duration": 25,
    "start_time": "2024-05-22T03:43:52.320Z"
   },
   {
    "duration": 484,
    "start_time": "2024-05-22T03:43:52.348Z"
   },
   {
    "duration": 143,
    "start_time": "2024-05-22T03:43:52.836Z"
   },
   {
    "duration": 500,
    "start_time": "2024-05-22T03:43:52.981Z"
   },
   {
    "duration": 117,
    "start_time": "2024-05-22T03:43:53.484Z"
   },
   {
    "duration": 7,
    "start_time": "2024-05-22T03:43:53.604Z"
   },
   {
    "duration": 0,
    "start_time": "2024-05-22T03:43:53.615Z"
   },
   {
    "duration": 0,
    "start_time": "2024-05-22T03:43:53.617Z"
   },
   {
    "duration": 0,
    "start_time": "2024-05-22T03:43:53.619Z"
   },
   {
    "duration": 0,
    "start_time": "2024-05-22T03:43:53.621Z"
   },
   {
    "duration": 0,
    "start_time": "2024-05-22T03:43:53.623Z"
   },
   {
    "duration": 0,
    "start_time": "2024-05-22T03:43:53.625Z"
   },
   {
    "duration": 0,
    "start_time": "2024-05-22T03:43:53.627Z"
   },
   {
    "duration": 1361,
    "start_time": "2024-05-22T03:44:08.662Z"
   },
   {
    "duration": 739,
    "start_time": "2024-05-22T03:44:10.028Z"
   },
   {
    "duration": 148,
    "start_time": "2024-05-22T03:44:10.770Z"
   },
   {
    "duration": 25,
    "start_time": "2024-05-22T03:44:10.921Z"
   },
   {
    "duration": 493,
    "start_time": "2024-05-22T03:44:10.953Z"
   },
   {
    "duration": 136,
    "start_time": "2024-05-22T03:44:11.450Z"
   },
   {
    "duration": 491,
    "start_time": "2024-05-22T03:44:11.589Z"
   },
   {
    "duration": 119,
    "start_time": "2024-05-22T03:44:12.082Z"
   },
   {
    "duration": 41,
    "start_time": "2024-05-22T03:44:12.204Z"
   },
   {
    "duration": 388,
    "start_time": "2024-05-22T03:44:12.248Z"
   },
   {
    "duration": 106,
    "start_time": "2024-05-22T03:44:12.639Z"
   },
   {
    "duration": 127,
    "start_time": "2024-05-22T03:44:12.748Z"
   },
   {
    "duration": 209,
    "start_time": "2024-05-22T03:44:12.878Z"
   },
   {
    "duration": 40,
    "start_time": "2024-05-22T03:44:13.092Z"
   },
   {
    "duration": 345,
    "start_time": "2024-05-22T03:44:13.135Z"
   },
   {
    "duration": 0,
    "start_time": "2024-05-22T03:44:13.483Z"
   },
   {
    "duration": 1347,
    "start_time": "2024-05-22T03:46:12.258Z"
   },
   {
    "duration": 723,
    "start_time": "2024-05-22T03:46:13.609Z"
   },
   {
    "duration": 149,
    "start_time": "2024-05-22T03:46:14.335Z"
   },
   {
    "duration": 39,
    "start_time": "2024-05-22T03:46:14.487Z"
   },
   {
    "duration": 464,
    "start_time": "2024-05-22T03:46:14.531Z"
   },
   {
    "duration": 137,
    "start_time": "2024-05-22T03:46:14.997Z"
   },
   {
    "duration": 493,
    "start_time": "2024-05-22T03:46:15.137Z"
   },
   {
    "duration": 115,
    "start_time": "2024-05-22T03:46:15.633Z"
   },
   {
    "duration": 37,
    "start_time": "2024-05-22T03:46:15.750Z"
   },
   {
    "duration": 382,
    "start_time": "2024-05-22T03:46:15.800Z"
   },
   {
    "duration": 103,
    "start_time": "2024-05-22T03:46:16.185Z"
   },
   {
    "duration": 116,
    "start_time": "2024-05-22T03:46:16.306Z"
   },
   {
    "duration": 223,
    "start_time": "2024-05-22T03:46:16.424Z"
   },
   {
    "duration": 35,
    "start_time": "2024-05-22T03:46:16.652Z"
   },
   {
    "duration": 333,
    "start_time": "2024-05-22T03:46:16.701Z"
   },
   {
    "duration": 0,
    "start_time": "2024-05-22T03:46:17.037Z"
   },
   {
    "duration": 1394,
    "start_time": "2024-05-22T03:59:09.428Z"
   },
   {
    "duration": 708,
    "start_time": "2024-05-22T03:59:10.825Z"
   },
   {
    "duration": 161,
    "start_time": "2024-05-22T03:59:11.536Z"
   },
   {
    "duration": 29,
    "start_time": "2024-05-22T03:59:11.702Z"
   },
   {
    "duration": 484,
    "start_time": "2024-05-22T03:59:11.737Z"
   },
   {
    "duration": 141,
    "start_time": "2024-05-22T03:59:12.224Z"
   },
   {
    "duration": 509,
    "start_time": "2024-05-22T03:59:12.368Z"
   },
   {
    "duration": 107,
    "start_time": "2024-05-22T03:59:12.880Z"
   },
   {
    "duration": 46,
    "start_time": "2024-05-22T03:59:12.990Z"
   },
   {
    "duration": 328,
    "start_time": "2024-05-22T03:59:13.039Z"
   },
   {
    "duration": 1057,
    "start_time": "2024-05-22T03:59:13.370Z"
   },
   {
    "duration": 235,
    "start_time": "2024-05-22T03:59:14.430Z"
   },
   {
    "duration": 99,
    "start_time": "2024-05-22T03:59:14.668Z"
   },
   {
    "duration": 13,
    "start_time": "2024-05-22T03:59:14.772Z"
   },
   {
    "duration": 624,
    "start_time": "2024-05-22T03:59:14.801Z"
   },
   {
    "duration": 0,
    "start_time": "2024-05-22T03:59:15.428Z"
   },
   {
    "duration": 178,
    "start_time": "2024-05-22T04:00:04.846Z"
   },
   {
    "duration": 12,
    "start_time": "2024-05-22T04:05:40.163Z"
   },
   {
    "duration": 11,
    "start_time": "2024-05-22T04:05:47.015Z"
   },
   {
    "duration": 11,
    "start_time": "2024-05-22T04:05:57.048Z"
   },
   {
    "duration": 13,
    "start_time": "2024-05-22T04:06:05.633Z"
   },
   {
    "duration": 923,
    "start_time": "2024-05-22T04:06:15.426Z"
   },
   {
    "duration": 11,
    "start_time": "2024-05-22T04:06:32.391Z"
   },
   {
    "duration": 11,
    "start_time": "2024-05-22T04:06:43.464Z"
   },
   {
    "duration": 11,
    "start_time": "2024-05-22T04:06:53.614Z"
   },
   {
    "duration": 11,
    "start_time": "2024-05-22T04:07:02.791Z"
   },
   {
    "duration": 19,
    "start_time": "2024-05-22T04:07:09.200Z"
   },
   {
    "duration": 13,
    "start_time": "2024-05-22T04:07:29.605Z"
   },
   {
    "duration": 1440,
    "start_time": "2024-05-22T04:10:54.082Z"
   },
   {
    "duration": 758,
    "start_time": "2024-05-22T04:10:55.527Z"
   },
   {
    "duration": 172,
    "start_time": "2024-05-22T04:10:56.289Z"
   },
   {
    "duration": 43,
    "start_time": "2024-05-22T04:10:56.464Z"
   },
   {
    "duration": 490,
    "start_time": "2024-05-22T04:10:56.512Z"
   },
   {
    "duration": 141,
    "start_time": "2024-05-22T04:10:57.005Z"
   },
   {
    "duration": 507,
    "start_time": "2024-05-22T04:10:57.149Z"
   },
   {
    "duration": 116,
    "start_time": "2024-05-22T04:10:57.659Z"
   },
   {
    "duration": 47,
    "start_time": "2024-05-22T04:10:57.778Z"
   },
   {
    "duration": 327,
    "start_time": "2024-05-22T04:10:57.827Z"
   },
   {
    "duration": 1083,
    "start_time": "2024-05-22T04:10:58.157Z"
   },
   {
    "duration": 239,
    "start_time": "2024-05-22T04:10:59.245Z"
   },
   {
    "duration": 93,
    "start_time": "2024-05-22T04:10:59.486Z"
   },
   {
    "duration": 23,
    "start_time": "2024-05-22T04:10:59.584Z"
   },
   {
    "duration": 602,
    "start_time": "2024-05-22T04:10:59.611Z"
   },
   {
    "duration": 0,
    "start_time": "2024-05-22T04:11:00.216Z"
   },
   {
    "duration": 170,
    "start_time": "2024-05-22T04:14:22.835Z"
   },
   {
    "duration": 93,
    "start_time": "2024-05-22T04:14:32.897Z"
   },
   {
    "duration": 177,
    "start_time": "2024-05-22T04:14:37.783Z"
   },
   {
    "duration": 1400,
    "start_time": "2024-05-22T04:15:33.901Z"
   },
   {
    "duration": 742,
    "start_time": "2024-05-22T04:15:35.306Z"
   },
   {
    "duration": 156,
    "start_time": "2024-05-22T04:15:36.051Z"
   },
   {
    "duration": 25,
    "start_time": "2024-05-22T04:15:36.211Z"
   },
   {
    "duration": 510,
    "start_time": "2024-05-22T04:15:36.241Z"
   },
   {
    "duration": 157,
    "start_time": "2024-05-22T04:15:36.754Z"
   },
   {
    "duration": 503,
    "start_time": "2024-05-22T04:15:36.915Z"
   },
   {
    "duration": 116,
    "start_time": "2024-05-22T04:15:37.421Z"
   },
   {
    "duration": 42,
    "start_time": "2024-05-22T04:15:37.541Z"
   },
   {
    "duration": 330,
    "start_time": "2024-05-22T04:15:37.588Z"
   },
   {
    "duration": 1071,
    "start_time": "2024-05-22T04:15:37.921Z"
   },
   {
    "duration": 228,
    "start_time": "2024-05-22T04:15:39.002Z"
   },
   {
    "duration": 100,
    "start_time": "2024-05-22T04:15:39.234Z"
   },
   {
    "duration": 13,
    "start_time": "2024-05-22T04:15:39.339Z"
   },
   {
    "duration": 537,
    "start_time": "2024-05-22T04:15:39.354Z"
   },
   {
    "duration": 0,
    "start_time": "2024-05-22T04:15:39.893Z"
   },
   {
    "duration": 0,
    "start_time": "2024-05-22T04:15:39.898Z"
   },
   {
    "duration": 1424,
    "start_time": "2024-05-22T04:16:02.699Z"
   },
   {
    "duration": 730,
    "start_time": "2024-05-22T04:16:04.127Z"
   },
   {
    "duration": 159,
    "start_time": "2024-05-22T04:16:04.859Z"
   },
   {
    "duration": 26,
    "start_time": "2024-05-22T04:16:05.021Z"
   },
   {
    "duration": 496,
    "start_time": "2024-05-22T04:16:05.051Z"
   },
   {
    "duration": 137,
    "start_time": "2024-05-22T04:16:05.550Z"
   },
   {
    "duration": 525,
    "start_time": "2024-05-22T04:16:05.702Z"
   },
   {
    "duration": 117,
    "start_time": "2024-05-22T04:16:06.230Z"
   },
   {
    "duration": 52,
    "start_time": "2024-05-22T04:16:06.349Z"
   },
   {
    "duration": 327,
    "start_time": "2024-05-22T04:16:06.405Z"
   },
   {
    "duration": 1068,
    "start_time": "2024-05-22T04:16:06.735Z"
   },
   {
    "duration": 235,
    "start_time": "2024-05-22T04:16:07.806Z"
   },
   {
    "duration": 96,
    "start_time": "2024-05-22T04:16:08.045Z"
   },
   {
    "duration": 17,
    "start_time": "2024-05-22T04:16:08.147Z"
   },
   {
    "duration": 1273,
    "start_time": "2024-05-22T04:16:08.168Z"
   },
   {
    "duration": 18445,
    "start_time": "2024-05-22T04:16:09.444Z"
   },
   {
    "duration": 123,
    "start_time": "2024-05-22T04:16:27.892Z"
   },
   {
    "duration": 56,
    "start_time": "2024-05-22T04:18:15.861Z"
   },
   {
    "duration": 1494,
    "start_time": "2024-05-22T04:32:56.531Z"
   },
   {
    "duration": 765,
    "start_time": "2024-05-22T04:32:58.029Z"
   },
   {
    "duration": 151,
    "start_time": "2024-05-22T04:32:58.797Z"
   },
   {
    "duration": 51,
    "start_time": "2024-05-22T04:32:58.953Z"
   },
   {
    "duration": 484,
    "start_time": "2024-05-22T04:32:59.008Z"
   },
   {
    "duration": 152,
    "start_time": "2024-05-22T04:32:59.502Z"
   },
   {
    "duration": 556,
    "start_time": "2024-05-22T04:32:59.657Z"
   },
   {
    "duration": 121,
    "start_time": "2024-05-22T04:33:00.217Z"
   },
   {
    "duration": 38,
    "start_time": "2024-05-22T04:33:00.341Z"
   },
   {
    "duration": 340,
    "start_time": "2024-05-22T04:33:00.402Z"
   },
   {
    "duration": 1097,
    "start_time": "2024-05-22T04:33:00.745Z"
   },
   {
    "duration": 239,
    "start_time": "2024-05-22T04:33:01.845Z"
   },
   {
    "duration": 103,
    "start_time": "2024-05-22T04:33:02.088Z"
   },
   {
    "duration": 14,
    "start_time": "2024-05-22T04:33:02.202Z"
   },
   {
    "duration": 1269,
    "start_time": "2024-05-22T04:33:02.219Z"
   },
   {
    "duration": 20186,
    "start_time": "2024-05-22T04:33:03.491Z"
   },
   {
    "duration": 645,
    "start_time": "2024-05-22T04:33:23.680Z"
   },
   {
    "duration": 1401,
    "start_time": "2024-05-22T04:34:32.728Z"
   },
   {
    "duration": 729,
    "start_time": "2024-05-22T04:34:34.132Z"
   },
   {
    "duration": 156,
    "start_time": "2024-05-22T04:34:34.864Z"
   },
   {
    "duration": 29,
    "start_time": "2024-05-22T04:34:35.023Z"
   },
   {
    "duration": 500,
    "start_time": "2024-05-22T04:34:35.058Z"
   },
   {
    "duration": 147,
    "start_time": "2024-05-22T04:34:35.561Z"
   },
   {
    "duration": 540,
    "start_time": "2024-05-22T04:34:35.710Z"
   },
   {
    "duration": 122,
    "start_time": "2024-05-22T04:34:36.253Z"
   },
   {
    "duration": 44,
    "start_time": "2024-05-22T04:34:36.378Z"
   },
   {
    "duration": 354,
    "start_time": "2024-05-22T04:34:36.428Z"
   },
   {
    "duration": 1085,
    "start_time": "2024-05-22T04:34:36.785Z"
   },
   {
    "duration": 243,
    "start_time": "2024-05-22T04:34:37.874Z"
   },
   {
    "duration": 125,
    "start_time": "2024-05-22T04:34:38.121Z"
   },
   {
    "duration": 16,
    "start_time": "2024-05-22T04:34:38.253Z"
   },
   {
    "duration": 1329,
    "start_time": "2024-05-22T04:34:38.272Z"
   },
   {
    "duration": 19980,
    "start_time": "2024-05-22T04:34:39.606Z"
   },
   {
    "duration": 118,
    "start_time": "2024-05-22T04:34:59.591Z"
   },
   {
    "duration": 5200,
    "start_time": "2024-05-22T14:52:52.750Z"
   },
   {
    "duration": 787,
    "start_time": "2024-05-22T14:52:57.954Z"
   },
   {
    "duration": 161,
    "start_time": "2024-05-22T14:52:58.744Z"
   },
   {
    "duration": 37,
    "start_time": "2024-05-22T14:52:58.911Z"
   },
   {
    "duration": 407,
    "start_time": "2024-05-22T14:52:58.951Z"
   },
   {
    "duration": 139,
    "start_time": "2024-05-22T14:52:59.361Z"
   },
   {
    "duration": 484,
    "start_time": "2024-05-22T14:52:59.503Z"
   },
   {
    "duration": 118,
    "start_time": "2024-05-22T14:52:59.991Z"
   },
   {
    "duration": 41,
    "start_time": "2024-05-22T14:53:00.113Z"
   },
   {
    "duration": 326,
    "start_time": "2024-05-22T14:53:00.160Z"
   },
   {
    "duration": 1085,
    "start_time": "2024-05-22T14:53:00.488Z"
   },
   {
    "duration": 230,
    "start_time": "2024-05-22T14:53:01.576Z"
   },
   {
    "duration": 98,
    "start_time": "2024-05-22T14:53:01.812Z"
   },
   {
    "duration": 26,
    "start_time": "2024-05-22T14:53:01.913Z"
   },
   {
    "duration": 1236,
    "start_time": "2024-05-22T14:53:01.943Z"
   },
   {
    "duration": 17899,
    "start_time": "2024-05-22T14:53:03.182Z"
   },
   {
    "duration": 150,
    "start_time": "2024-05-22T14:53:21.083Z"
   },
   {
    "duration": 5462,
    "start_time": "2024-05-24T02:18:38.806Z"
   },
   {
    "duration": 911,
    "start_time": "2024-05-24T02:18:44.273Z"
   },
   {
    "duration": 191,
    "start_time": "2024-05-24T02:18:45.188Z"
   },
   {
    "duration": 42,
    "start_time": "2024-05-24T02:18:45.386Z"
   },
   {
    "duration": 447,
    "start_time": "2024-05-24T02:18:45.434Z"
   },
   {
    "duration": 152,
    "start_time": "2024-05-24T02:18:45.885Z"
   },
   {
    "duration": 532,
    "start_time": "2024-05-24T02:18:46.040Z"
   },
   {
    "duration": 121,
    "start_time": "2024-05-24T02:18:46.577Z"
   },
   {
    "duration": 50,
    "start_time": "2024-05-24T02:18:46.702Z"
   },
   {
    "duration": 281,
    "start_time": "2024-05-24T02:18:46.756Z"
   },
   {
    "duration": 2664,
    "start_time": "2024-05-24T02:18:47.041Z"
   },
   {
    "duration": 374,
    "start_time": "2024-05-24T02:18:49.708Z"
   },
   {
    "duration": 115,
    "start_time": "2024-05-24T02:18:50.086Z"
   },
   {
    "duration": 29,
    "start_time": "2024-05-24T02:18:50.208Z"
   },
   {
    "duration": 1295,
    "start_time": "2024-05-24T02:18:50.241Z"
   },
   {
    "duration": 19814,
    "start_time": "2024-05-24T02:18:51.540Z"
   },
   {
    "duration": 95,
    "start_time": "2024-05-24T02:19:11.358Z"
   },
   {
    "duration": 1655,
    "start_time": "2024-05-24T02:21:30.112Z"
   },
   {
    "duration": 812,
    "start_time": "2024-05-24T02:21:31.772Z"
   },
   {
    "duration": 178,
    "start_time": "2024-05-24T02:21:32.588Z"
   },
   {
    "duration": 55,
    "start_time": "2024-05-24T02:21:32.771Z"
   },
   {
    "duration": 456,
    "start_time": "2024-05-24T02:21:32.832Z"
   },
   {
    "duration": 148,
    "start_time": "2024-05-24T02:21:33.292Z"
   },
   {
    "duration": 531,
    "start_time": "2024-05-24T02:21:33.443Z"
   },
   {
    "duration": 121,
    "start_time": "2024-05-24T02:21:33.978Z"
   },
   {
    "duration": 47,
    "start_time": "2024-05-24T02:21:34.107Z"
   },
   {
    "duration": 297,
    "start_time": "2024-05-24T02:21:34.158Z"
   },
   {
    "duration": 928,
    "start_time": "2024-05-24T02:21:34.459Z"
   },
   {
    "duration": 221,
    "start_time": "2024-05-24T02:21:35.391Z"
   },
   {
    "duration": 114,
    "start_time": "2024-05-24T02:21:35.616Z"
   },
   {
    "duration": 14,
    "start_time": "2024-05-24T02:21:35.737Z"
   },
   {
    "duration": 1062,
    "start_time": "2024-05-24T02:21:35.755Z"
   },
   {
    "duration": 15730,
    "start_time": "2024-05-24T02:21:36.828Z"
   },
   {
    "duration": 79,
    "start_time": "2024-05-24T02:21:52.562Z"
   },
   {
    "duration": 525,
    "start_time": "2024-05-24T02:22:04.958Z"
   },
   {
    "duration": 318,
    "start_time": "2024-05-24T02:22:08.996Z"
   },
   {
    "duration": 15,
    "start_time": "2024-05-24T02:25:00.913Z"
   },
   {
    "duration": 1754,
    "start_time": "2024-05-26T02:58:42.723Z"
   },
   {
    "duration": 839,
    "start_time": "2024-05-26T02:58:44.481Z"
   },
   {
    "duration": 221,
    "start_time": "2024-05-26T02:58:45.325Z"
   },
   {
    "duration": 29,
    "start_time": "2024-05-26T02:58:45.552Z"
   },
   {
    "duration": 479,
    "start_time": "2024-05-26T02:58:45.584Z"
   },
   {
    "duration": 206,
    "start_time": "2024-05-26T02:58:46.068Z"
   },
   {
    "duration": 530,
    "start_time": "2024-05-26T02:58:46.277Z"
   },
   {
    "duration": 123,
    "start_time": "2024-05-26T02:58:46.810Z"
   },
   {
    "duration": 30,
    "start_time": "2024-05-26T02:58:46.936Z"
   },
   {
    "duration": 287,
    "start_time": "2024-05-26T02:58:46.970Z"
   },
   {
    "duration": 771,
    "start_time": "2024-05-26T02:58:47.260Z"
   },
   {
    "duration": 338,
    "start_time": "2024-05-26T02:58:48.033Z"
   },
   {
    "duration": 5052,
    "start_time": "2024-05-26T21:02:32.241Z"
   },
   {
    "duration": 761,
    "start_time": "2024-05-26T21:02:37.296Z"
   },
   {
    "duration": 175,
    "start_time": "2024-05-26T21:02:38.060Z"
   },
   {
    "duration": 26,
    "start_time": "2024-05-26T21:02:38.238Z"
   },
   {
    "duration": 423,
    "start_time": "2024-05-26T21:02:38.269Z"
   },
   {
    "duration": 151,
    "start_time": "2024-05-26T21:02:38.695Z"
   },
   {
    "duration": 511,
    "start_time": "2024-05-26T21:02:38.850Z"
   },
   {
    "duration": 114,
    "start_time": "2024-05-26T21:02:39.364Z"
   },
   {
    "duration": 50,
    "start_time": "2024-05-26T21:02:39.481Z"
   },
   {
    "duration": 284,
    "start_time": "2024-05-26T21:02:39.536Z"
   },
   {
    "duration": 28848,
    "start_time": "2024-05-26T21:02:39.824Z"
   },
   {
    "duration": 17,
    "start_time": "2024-05-26T21:03:08.674Z"
   },
   {
    "duration": 174,
    "start_time": "2024-05-26T21:03:08.694Z"
   },
   {
    "duration": 41,
    "start_time": "2024-05-26T21:03:08.872Z"
   },
   {
    "duration": 79,
    "start_time": "2024-05-26T21:03:08.916Z"
   },
   {
    "duration": 63,
    "start_time": "2024-05-26T21:03:09.013Z"
   },
   {
    "duration": 83,
    "start_time": "2024-05-26T21:03:09.079Z"
   },
   {
    "duration": 1506,
    "start_time": "2024-05-26T21:06:11.281Z"
   },
   {
    "duration": 750,
    "start_time": "2024-05-26T21:06:12.791Z"
   },
   {
    "duration": 170,
    "start_time": "2024-05-26T21:06:13.544Z"
   },
   {
    "duration": 28,
    "start_time": "2024-05-26T21:06:13.717Z"
   },
   {
    "duration": 412,
    "start_time": "2024-05-26T21:06:13.749Z"
   },
   {
    "duration": 150,
    "start_time": "2024-05-26T21:06:14.164Z"
   },
   {
    "duration": 692,
    "start_time": "2024-05-26T21:06:14.317Z"
   },
   {
    "duration": 70,
    "start_time": "2024-05-26T21:06:15.013Z"
   },
   {
    "duration": 44,
    "start_time": "2024-05-26T21:06:15.086Z"
   },
   {
    "duration": 195,
    "start_time": "2024-05-26T21:06:15.134Z"
   },
   {
    "duration": 21056,
    "start_time": "2024-05-26T21:06:15.331Z"
   },
   {
    "duration": 24,
    "start_time": "2024-05-26T21:06:36.390Z"
   },
   {
    "duration": 112,
    "start_time": "2024-05-26T21:06:36.416Z"
   },
   {
    "duration": 41,
    "start_time": "2024-05-26T21:06:36.533Z"
   },
   {
    "duration": 74,
    "start_time": "2024-05-26T21:06:36.580Z"
   },
   {
    "duration": 66,
    "start_time": "2024-05-26T21:06:36.657Z"
   },
   {
    "duration": 50,
    "start_time": "2024-05-26T21:06:36.727Z"
   },
   {
    "duration": 1449,
    "start_time": "2024-05-26T21:08:16.029Z"
   },
   {
    "duration": 722,
    "start_time": "2024-05-26T21:08:17.481Z"
   },
   {
    "duration": 155,
    "start_time": "2024-05-26T21:08:18.206Z"
   },
   {
    "duration": 27,
    "start_time": "2024-05-26T21:08:18.364Z"
   },
   {
    "duration": 404,
    "start_time": "2024-05-26T21:08:18.416Z"
   },
   {
    "duration": 144,
    "start_time": "2024-05-26T21:08:18.823Z"
   },
   {
    "duration": 129,
    "start_time": "2024-05-26T21:08:18.970Z"
   },
   {
    "duration": 35,
    "start_time": "2024-05-26T21:08:19.102Z"
   },
   {
    "duration": 354,
    "start_time": "2024-05-26T21:08:19.140Z"
   },
   {
    "duration": 229,
    "start_time": "2024-05-26T21:08:19.497Z"
   },
   {
    "duration": 25731,
    "start_time": "2024-05-26T21:08:19.730Z"
   },
   {
    "duration": 17,
    "start_time": "2024-05-26T21:08:45.464Z"
   },
   {
    "duration": 143,
    "start_time": "2024-05-26T21:08:45.484Z"
   },
   {
    "duration": 28,
    "start_time": "2024-05-26T21:08:45.633Z"
   },
   {
    "duration": 94,
    "start_time": "2024-05-26T21:08:45.664Z"
   },
   {
    "duration": 70,
    "start_time": "2024-05-26T21:08:45.763Z"
   },
   {
    "duration": 53,
    "start_time": "2024-05-26T21:08:45.836Z"
   },
   {
    "duration": 281,
    "start_time": "2024-05-26T21:08:49.902Z"
   },
   {
    "duration": 212,
    "start_time": "2024-05-26T21:08:57.633Z"
   },
   {
    "duration": 118,
    "start_time": "2024-05-26T21:24:24.811Z"
   },
   {
    "duration": 46,
    "start_time": "2024-05-26T21:25:09.581Z"
   },
   {
    "duration": 566,
    "start_time": "2024-05-26T21:25:17.270Z"
   },
   {
    "duration": 605,
    "start_time": "2024-05-26T21:25:56.199Z"
   },
   {
    "duration": 46,
    "start_time": "2024-05-26T21:26:58.698Z"
   },
   {
    "duration": 1552,
    "start_time": "2024-05-26T21:29:06.474Z"
   },
   {
    "duration": 786,
    "start_time": "2024-05-26T21:29:08.034Z"
   },
   {
    "duration": 192,
    "start_time": "2024-05-26T21:29:08.823Z"
   },
   {
    "duration": 31,
    "start_time": "2024-05-26T21:29:09.019Z"
   },
   {
    "duration": 460,
    "start_time": "2024-05-26T21:29:09.055Z"
   },
   {
    "duration": 153,
    "start_time": "2024-05-26T21:29:09.519Z"
   },
   {
    "duration": 122,
    "start_time": "2024-05-26T21:29:09.675Z"
   },
   {
    "duration": 28,
    "start_time": "2024-05-26T21:29:09.812Z"
   },
   {
    "duration": 374,
    "start_time": "2024-05-26T21:29:09.845Z"
   },
   {
    "duration": 267,
    "start_time": "2024-05-26T21:29:10.226Z"
   },
   {
    "duration": 797,
    "start_time": "2024-05-26T21:29:10.496Z"
   },
   {
    "duration": 26,
    "start_time": "2024-05-26T21:29:11.296Z"
   },
   {
    "duration": 147,
    "start_time": "2024-05-26T21:29:11.325Z"
   },
   {
    "duration": 45,
    "start_time": "2024-05-26T21:29:11.478Z"
   },
   {
    "duration": 87,
    "start_time": "2024-05-26T21:29:11.526Z"
   },
   {
    "duration": 62,
    "start_time": "2024-05-26T21:29:11.617Z"
   },
   {
    "duration": 82,
    "start_time": "2024-05-26T21:29:11.682Z"
   },
   {
    "duration": 4557,
    "start_time": "2024-05-26T21:31:22.640Z"
   },
   {
    "duration": 1629,
    "start_time": "2024-05-26T21:31:27.202Z"
   },
   {
    "duration": 730,
    "start_time": "2024-05-26T21:31:28.834Z"
   },
   {
    "duration": 157,
    "start_time": "2024-05-26T21:31:29.567Z"
   },
   {
    "duration": 33,
    "start_time": "2024-05-26T21:31:29.729Z"
   },
   {
    "duration": 452,
    "start_time": "2024-05-26T21:31:29.766Z"
   },
   {
    "duration": 147,
    "start_time": "2024-05-26T21:31:30.221Z"
   },
   {
    "duration": 128,
    "start_time": "2024-05-26T21:31:30.372Z"
   },
   {
    "duration": 28,
    "start_time": "2024-05-26T21:31:30.512Z"
   },
   {
    "duration": 390,
    "start_time": "2024-05-26T21:31:30.544Z"
   },
   {
    "duration": 236,
    "start_time": "2024-05-26T21:31:30.940Z"
   },
   {
    "duration": 801,
    "start_time": "2024-05-26T21:31:31.179Z"
   },
   {
    "duration": 29,
    "start_time": "2024-05-26T21:31:31.984Z"
   },
   {
    "duration": 181,
    "start_time": "2024-05-26T21:31:32.020Z"
   },
   {
    "duration": 35,
    "start_time": "2024-05-26T21:31:32.204Z"
   },
   {
    "duration": 95,
    "start_time": "2024-05-26T21:31:32.242Z"
   },
   {
    "duration": 81,
    "start_time": "2024-05-26T21:31:32.341Z"
   },
   {
    "duration": 66,
    "start_time": "2024-05-26T21:31:32.426Z"
   },
   {
    "duration": 4198,
    "start_time": "2024-05-26T21:31:44.804Z"
   },
   {
    "duration": 1617,
    "start_time": "2024-05-26T21:31:49.007Z"
   },
   {
    "duration": 760,
    "start_time": "2024-05-26T21:31:50.628Z"
   },
   {
    "duration": 161,
    "start_time": "2024-05-26T21:31:51.391Z"
   },
   {
    "duration": 29,
    "start_time": "2024-05-26T21:31:51.558Z"
   },
   {
    "duration": 444,
    "start_time": "2024-05-26T21:31:51.614Z"
   },
   {
    "duration": 185,
    "start_time": "2024-05-26T21:31:52.064Z"
   },
   {
    "duration": 131,
    "start_time": "2024-05-26T21:31:52.252Z"
   },
   {
    "duration": 34,
    "start_time": "2024-05-26T21:31:52.387Z"
   },
   {
    "duration": 357,
    "start_time": "2024-05-26T21:31:52.424Z"
   },
   {
    "duration": 249,
    "start_time": "2024-05-26T21:31:52.785Z"
   },
   {
    "duration": 892,
    "start_time": "2024-05-26T21:31:53.038Z"
   },
   {
    "duration": 17,
    "start_time": "2024-05-26T21:31:53.934Z"
   },
   {
    "duration": 169,
    "start_time": "2024-05-26T21:31:53.958Z"
   },
   {
    "duration": 39,
    "start_time": "2024-05-26T21:31:54.131Z"
   },
   {
    "duration": 94,
    "start_time": "2024-05-26T21:31:54.174Z"
   },
   {
    "duration": 84,
    "start_time": "2024-05-26T21:31:54.271Z"
   },
   {
    "duration": 72,
    "start_time": "2024-05-26T21:31:54.358Z"
   },
   {
    "duration": 541,
    "start_time": "2024-05-26T21:33:01.672Z"
   },
   {
    "duration": 191,
    "start_time": "2024-05-26T21:33:35.126Z"
   },
   {
    "duration": 503,
    "start_time": "2024-05-26T21:33:42.029Z"
   },
   {
    "duration": 26927,
    "start_time": "2024-05-26T21:35:28.894Z"
   },
   {
    "duration": 9,
    "start_time": "2024-05-26T21:36:21.012Z"
   },
   {
    "duration": 59,
    "start_time": "2024-05-26T21:36:28.034Z"
   },
   {
    "duration": 26184,
    "start_time": "2024-05-26T21:36:37.149Z"
   },
   {
    "duration": 517,
    "start_time": "2024-05-26T21:43:37.893Z"
   },
   {
    "duration": 26177,
    "start_time": "2024-05-26T21:43:57.494Z"
   },
   {
    "duration": 3963,
    "start_time": "2024-05-26T21:47:34.452Z"
   },
   {
    "duration": 1623,
    "start_time": "2024-05-26T21:47:38.419Z"
   },
   {
    "duration": 788,
    "start_time": "2024-05-26T21:47:40.048Z"
   },
   {
    "duration": 160,
    "start_time": "2024-05-26T21:47:40.840Z"
   },
   {
    "duration": 33,
    "start_time": "2024-05-26T21:47:41.015Z"
   },
   {
    "duration": 445,
    "start_time": "2024-05-26T21:47:41.051Z"
   },
   {
    "duration": 149,
    "start_time": "2024-05-26T21:47:41.499Z"
   },
   {
    "duration": 146,
    "start_time": "2024-05-26T21:47:41.652Z"
   },
   {
    "duration": 27,
    "start_time": "2024-05-26T21:47:41.804Z"
   },
   {
    "duration": 251,
    "start_time": "2024-05-26T21:47:41.835Z"
   },
   {
    "duration": 123,
    "start_time": "2024-05-26T21:47:42.089Z"
   },
   {
    "duration": 16772,
    "start_time": "2024-05-26T21:47:42.216Z"
   },
   {
    "duration": 30,
    "start_time": "2024-05-26T21:47:58.991Z"
   },
   {
    "duration": 85,
    "start_time": "2024-05-26T21:47:59.027Z"
   },
   {
    "duration": 19,
    "start_time": "2024-05-26T21:47:59.116Z"
   },
   {
    "duration": 87,
    "start_time": "2024-05-26T21:47:59.138Z"
   },
   {
    "duration": 50,
    "start_time": "2024-05-26T21:47:59.228Z"
   },
   {
    "duration": 72,
    "start_time": "2024-05-26T21:47:59.284Z"
   },
   {
    "duration": 489,
    "start_time": "2024-05-26T21:48:26.281Z"
   },
   {
    "duration": 15736,
    "start_time": "2024-05-26T21:48:50.652Z"
   },
   {
    "duration": 15903,
    "start_time": "2024-05-26T21:49:30.383Z"
   },
   {
    "duration": 15717,
    "start_time": "2024-05-26T21:51:49.884Z"
   },
   {
    "duration": 28,
    "start_time": "2024-05-26T21:53:05.882Z"
   },
   {
    "duration": 16941,
    "start_time": "2024-05-26T21:53:13.301Z"
   },
   {
    "duration": 4288,
    "start_time": "2024-05-26T21:53:53.571Z"
   },
   {
    "duration": 1609,
    "start_time": "2024-05-26T21:53:57.863Z"
   },
   {
    "duration": 811,
    "start_time": "2024-05-26T21:53:59.476Z"
   },
   {
    "duration": 187,
    "start_time": "2024-05-26T21:54:00.290Z"
   },
   {
    "duration": 50,
    "start_time": "2024-05-26T21:54:00.481Z"
   },
   {
    "duration": 453,
    "start_time": "2024-05-26T21:54:00.537Z"
   },
   {
    "duration": 168,
    "start_time": "2024-05-26T21:54:00.993Z"
   },
   {
    "duration": 18,
    "start_time": "2024-05-26T21:54:01.164Z"
   },
   {
    "duration": 293,
    "start_time": "2024-05-26T21:54:01.185Z"
   },
   {
    "duration": 114,
    "start_time": "2024-05-26T21:54:01.482Z"
   },
   {
    "duration": 12496,
    "start_time": "2024-05-26T21:54:01.599Z"
   },
   {
    "duration": 25,
    "start_time": "2024-05-26T21:54:14.101Z"
   },
   {
    "duration": 57,
    "start_time": "2024-05-26T21:54:14.129Z"
   },
   {
    "duration": 37,
    "start_time": "2024-05-26T21:54:14.195Z"
   },
   {
    "duration": 48,
    "start_time": "2024-05-26T21:54:14.236Z"
   },
   {
    "duration": 61,
    "start_time": "2024-05-26T21:54:14.286Z"
   },
   {
    "duration": 63,
    "start_time": "2024-05-26T21:54:14.351Z"
   },
   {
    "duration": 123,
    "start_time": "2024-05-26T21:54:54.960Z"
   },
   {
    "duration": 37,
    "start_time": "2024-05-26T21:55:45.783Z"
   },
   {
    "duration": 4059,
    "start_time": "2024-05-26T21:55:54.885Z"
   },
   {
    "duration": 1527,
    "start_time": "2024-05-26T21:55:58.948Z"
   },
   {
    "duration": 780,
    "start_time": "2024-05-26T21:56:00.481Z"
   },
   {
    "duration": 188,
    "start_time": "2024-05-26T21:56:01.264Z"
   },
   {
    "duration": 27,
    "start_time": "2024-05-26T21:56:01.458Z"
   },
   {
    "duration": 446,
    "start_time": "2024-05-26T21:56:01.488Z"
   },
   {
    "duration": 150,
    "start_time": "2024-05-26T21:56:01.940Z"
   },
   {
    "duration": 144,
    "start_time": "2024-05-26T21:56:02.093Z"
   },
   {
    "duration": 23,
    "start_time": "2024-05-26T21:56:02.243Z"
   },
   {
    "duration": 303,
    "start_time": "2024-05-26T21:56:02.269Z"
   },
   {
    "duration": 160,
    "start_time": "2024-05-26T21:56:02.575Z"
   },
   {
    "duration": 17190,
    "start_time": "2024-05-26T21:56:02.739Z"
   },
   {
    "duration": 19,
    "start_time": "2024-05-26T21:56:19.932Z"
   },
   {
    "duration": 105,
    "start_time": "2024-05-26T21:56:19.957Z"
   },
   {
    "duration": 21,
    "start_time": "2024-05-26T21:56:20.066Z"
   },
   {
    "duration": 56,
    "start_time": "2024-05-26T21:56:20.111Z"
   },
   {
    "duration": 73,
    "start_time": "2024-05-26T21:56:20.170Z"
   },
   {
    "duration": 67,
    "start_time": "2024-05-26T21:56:20.246Z"
   },
   {
    "duration": 4203,
    "start_time": "2024-05-26T21:57:05.809Z"
   },
   {
    "duration": 1671,
    "start_time": "2024-05-26T21:57:10.017Z"
   },
   {
    "duration": 801,
    "start_time": "2024-05-26T21:57:11.691Z"
   },
   {
    "duration": 187,
    "start_time": "2024-05-26T21:57:12.495Z"
   },
   {
    "duration": 40,
    "start_time": "2024-05-26T21:57:12.687Z"
   },
   {
    "duration": 458,
    "start_time": "2024-05-26T21:57:12.730Z"
   },
   {
    "duration": 159,
    "start_time": "2024-05-26T21:57:13.192Z"
   },
   {
    "duration": 111,
    "start_time": "2024-05-26T21:57:13.355Z"
   },
   {
    "duration": 19,
    "start_time": "2024-05-26T21:57:13.470Z"
   },
   {
    "duration": 208,
    "start_time": "2024-05-26T21:57:13.512Z"
   },
   {
    "duration": 106,
    "start_time": "2024-05-26T21:57:13.725Z"
   },
   {
    "duration": 9368,
    "start_time": "2024-05-26T21:57:13.835Z"
   },
   {
    "duration": 19,
    "start_time": "2024-05-26T21:57:23.216Z"
   },
   {
    "duration": 42,
    "start_time": "2024-05-26T21:57:23.241Z"
   },
   {
    "duration": 38,
    "start_time": "2024-05-26T21:57:23.286Z"
   },
   {
    "duration": 48,
    "start_time": "2024-05-26T21:57:23.328Z"
   },
   {
    "duration": 62,
    "start_time": "2024-05-26T21:57:23.379Z"
   },
   {
    "duration": 30,
    "start_time": "2024-05-26T21:57:23.444Z"
   },
   {
    "duration": 17,
    "start_time": "2024-05-26T21:58:13.456Z"
   },
   {
    "duration": 4222,
    "start_time": "2024-05-26T21:58:31.144Z"
   },
   {
    "duration": 1676,
    "start_time": "2024-05-26T21:58:35.370Z"
   },
   {
    "duration": 784,
    "start_time": "2024-05-26T21:58:37.051Z"
   },
   {
    "duration": 162,
    "start_time": "2024-05-26T21:58:37.841Z"
   },
   {
    "duration": 30,
    "start_time": "2024-05-26T21:58:38.012Z"
   },
   {
    "duration": 459,
    "start_time": "2024-05-26T21:58:38.044Z"
   },
   {
    "duration": 153,
    "start_time": "2024-05-26T21:58:38.514Z"
   },
   {
    "duration": 110,
    "start_time": "2024-05-26T21:58:38.670Z"
   },
   {
    "duration": 31,
    "start_time": "2024-05-26T21:58:38.784Z"
   },
   {
    "duration": 202,
    "start_time": "2024-05-26T21:58:38.823Z"
   },
   {
    "duration": 104,
    "start_time": "2024-05-26T21:58:39.028Z"
   },
   {
    "duration": 9699,
    "start_time": "2024-05-26T21:58:39.135Z"
   },
   {
    "duration": 19,
    "start_time": "2024-05-26T21:58:48.837Z"
   },
   {
    "duration": 63,
    "start_time": "2024-05-26T21:58:48.862Z"
   },
   {
    "duration": 16,
    "start_time": "2024-05-26T21:58:48.928Z"
   },
   {
    "duration": 39,
    "start_time": "2024-05-26T21:58:48.948Z"
   },
   {
    "duration": 39,
    "start_time": "2024-05-26T21:58:49.014Z"
   },
   {
    "duration": 63,
    "start_time": "2024-05-26T21:58:49.056Z"
   },
   {
    "duration": 11,
    "start_time": "2024-05-26T21:59:08.995Z"
   },
   {
    "duration": 137,
    "start_time": "2024-05-26T21:59:13.990Z"
   },
   {
    "duration": 8101,
    "start_time": "2024-05-26T21:59:17.727Z"
   },
   {
    "duration": 155,
    "start_time": "2024-05-26T22:00:58.205Z"
   },
   {
    "duration": 8220,
    "start_time": "2024-05-26T22:01:36.703Z"
   },
   {
    "duration": 1782,
    "start_time": "2024-05-26T22:49:45.670Z"
   },
   {
    "duration": 799,
    "start_time": "2024-05-26T22:49:47.458Z"
   },
   {
    "duration": 173,
    "start_time": "2024-05-26T22:49:48.260Z"
   },
   {
    "duration": 32,
    "start_time": "2024-05-26T22:49:48.440Z"
   },
   {
    "duration": 499,
    "start_time": "2024-05-26T22:49:48.478Z"
   },
   {
    "duration": 177,
    "start_time": "2024-05-26T22:49:48.979Z"
   },
   {
    "duration": 112,
    "start_time": "2024-05-26T22:49:49.159Z"
   },
   {
    "duration": 23,
    "start_time": "2024-05-26T22:49:49.275Z"
   },
   {
    "duration": 215,
    "start_time": "2024-05-26T22:49:49.312Z"
   },
   {
    "duration": 110,
    "start_time": "2024-05-26T22:49:49.532Z"
   },
   {
    "duration": 10006,
    "start_time": "2024-05-26T22:49:49.645Z"
   },
   {
    "duration": 16,
    "start_time": "2024-05-26T22:49:59.653Z"
   },
   {
    "duration": 63,
    "start_time": "2024-05-26T22:49:59.672Z"
   },
   {
    "duration": 14,
    "start_time": "2024-05-26T22:49:59.741Z"
   },
   {
    "duration": 72,
    "start_time": "2024-05-26T22:49:59.758Z"
   },
   {
    "duration": 36,
    "start_time": "2024-05-26T22:49:59.834Z"
   },
   {
    "duration": 53,
    "start_time": "2024-05-26T22:49:59.873Z"
   },
   {
    "duration": 1320,
    "start_time": "2024-05-26T22:49:59.929Z"
   },
   {
    "duration": 0,
    "start_time": "2024-05-26T22:50:01.252Z"
   },
   {
    "duration": 0,
    "start_time": "2024-05-26T22:50:01.255Z"
   },
   {
    "duration": 44,
    "start_time": "2024-05-26T22:57:09.904Z"
   },
   {
    "duration": 8,
    "start_time": "2024-05-26T23:00:55.290Z"
   },
   {
    "duration": 15,
    "start_time": "2024-05-26T23:01:00.437Z"
   },
   {
    "duration": 12,
    "start_time": "2024-05-26T23:02:51.733Z"
   },
   {
    "duration": 1828,
    "start_time": "2024-05-26T23:05:23.747Z"
   },
   {
    "duration": 791,
    "start_time": "2024-05-26T23:05:25.582Z"
   },
   {
    "duration": 154,
    "start_time": "2024-05-26T23:05:26.377Z"
   },
   {
    "duration": 29,
    "start_time": "2024-05-26T23:05:26.534Z"
   },
   {
    "duration": 58,
    "start_time": "2024-05-26T23:05:26.568Z"
   },
   {
    "duration": 462,
    "start_time": "2024-05-26T23:05:26.635Z"
   },
   {
    "duration": 143,
    "start_time": "2024-05-26T23:05:27.100Z"
   },
   {
    "duration": 113,
    "start_time": "2024-05-26T23:05:27.247Z"
   },
   {
    "duration": 24,
    "start_time": "2024-05-26T23:05:27.364Z"
   },
   {
    "duration": 341,
    "start_time": "2024-05-26T23:05:27.391Z"
   },
   {
    "duration": 23,
    "start_time": "2024-05-26T23:05:27.736Z"
   },
   {
    "duration": 24,
    "start_time": "2024-05-26T23:05:27.763Z"
   },
   {
    "duration": 246,
    "start_time": "2024-05-26T23:05:27.815Z"
   },
   {
    "duration": 0,
    "start_time": "2024-05-26T23:05:28.065Z"
   },
   {
    "duration": 0,
    "start_time": "2024-05-26T23:05:28.067Z"
   },
   {
    "duration": 0,
    "start_time": "2024-05-26T23:05:28.070Z"
   },
   {
    "duration": 0,
    "start_time": "2024-05-26T23:05:28.072Z"
   },
   {
    "duration": 0,
    "start_time": "2024-05-26T23:05:28.074Z"
   },
   {
    "duration": 0,
    "start_time": "2024-05-26T23:05:28.077Z"
   },
   {
    "duration": 0,
    "start_time": "2024-05-26T23:05:28.079Z"
   },
   {
    "duration": 0,
    "start_time": "2024-05-26T23:05:28.081Z"
   },
   {
    "duration": 0,
    "start_time": "2024-05-26T23:05:28.085Z"
   },
   {
    "duration": 23,
    "start_time": "2024-05-26T23:06:32.686Z"
   },
   {
    "duration": 1798,
    "start_time": "2024-05-26T23:06:44.473Z"
   },
   {
    "duration": 771,
    "start_time": "2024-05-26T23:06:46.276Z"
   },
   {
    "duration": 164,
    "start_time": "2024-05-26T23:06:47.051Z"
   },
   {
    "duration": 28,
    "start_time": "2024-05-26T23:06:47.218Z"
   },
   {
    "duration": 28,
    "start_time": "2024-05-26T23:06:47.251Z"
   },
   {
    "duration": 476,
    "start_time": "2024-05-26T23:06:47.314Z"
   },
   {
    "duration": 160,
    "start_time": "2024-05-26T23:06:47.795Z"
   },
   {
    "duration": 116,
    "start_time": "2024-05-26T23:06:47.958Z"
   },
   {
    "duration": 35,
    "start_time": "2024-05-26T23:06:48.078Z"
   },
   {
    "duration": 341,
    "start_time": "2024-05-26T23:06:48.120Z"
   },
   {
    "duration": 19,
    "start_time": "2024-05-26T23:06:48.464Z"
   },
   {
    "duration": 39,
    "start_time": "2024-05-26T23:06:48.486Z"
   },
   {
    "duration": 257,
    "start_time": "2024-05-26T23:06:48.528Z"
   },
   {
    "duration": 0,
    "start_time": "2024-05-26T23:06:48.789Z"
   },
   {
    "duration": 0,
    "start_time": "2024-05-26T23:06:48.790Z"
   },
   {
    "duration": 0,
    "start_time": "2024-05-26T23:06:48.792Z"
   },
   {
    "duration": 0,
    "start_time": "2024-05-26T23:06:48.794Z"
   },
   {
    "duration": 0,
    "start_time": "2024-05-26T23:06:48.813Z"
   },
   {
    "duration": 0,
    "start_time": "2024-05-26T23:06:48.815Z"
   },
   {
    "duration": 0,
    "start_time": "2024-05-26T23:06:48.817Z"
   },
   {
    "duration": 0,
    "start_time": "2024-05-26T23:06:48.819Z"
   },
   {
    "duration": 0,
    "start_time": "2024-05-26T23:06:48.821Z"
   },
   {
    "duration": 1743,
    "start_time": "2024-05-26T23:07:32.561Z"
   },
   {
    "duration": 773,
    "start_time": "2024-05-26T23:07:34.312Z"
   },
   {
    "duration": 166,
    "start_time": "2024-05-26T23:07:35.088Z"
   },
   {
    "duration": 30,
    "start_time": "2024-05-26T23:07:35.258Z"
   },
   {
    "duration": 30,
    "start_time": "2024-05-26T23:07:35.313Z"
   },
   {
    "duration": 483,
    "start_time": "2024-05-26T23:07:35.346Z"
   },
   {
    "duration": 150,
    "start_time": "2024-05-26T23:07:35.833Z"
   },
   {
    "duration": 144,
    "start_time": "2024-05-26T23:07:35.986Z"
   },
   {
    "duration": 25,
    "start_time": "2024-05-26T23:07:36.133Z"
   },
   {
    "duration": 215,
    "start_time": "2024-05-26T23:07:36.160Z"
   },
   {
    "duration": 107,
    "start_time": "2024-05-26T23:07:36.378Z"
   },
   {
    "duration": 9526,
    "start_time": "2024-05-26T23:07:36.488Z"
   },
   {
    "duration": 206,
    "start_time": "2024-05-26T23:07:46.017Z"
   },
   {
    "duration": 0,
    "start_time": "2024-05-26T23:07:46.227Z"
   },
   {
    "duration": 0,
    "start_time": "2024-05-26T23:07:46.229Z"
   },
   {
    "duration": 0,
    "start_time": "2024-05-26T23:07:46.232Z"
   },
   {
    "duration": 1,
    "start_time": "2024-05-26T23:07:46.236Z"
   },
   {
    "duration": 0,
    "start_time": "2024-05-26T23:07:46.238Z"
   },
   {
    "duration": 0,
    "start_time": "2024-05-26T23:07:46.240Z"
   },
   {
    "duration": 0,
    "start_time": "2024-05-26T23:07:46.242Z"
   },
   {
    "duration": 0,
    "start_time": "2024-05-26T23:07:46.243Z"
   },
   {
    "duration": 0,
    "start_time": "2024-05-26T23:07:46.245Z"
   },
   {
    "duration": 1801,
    "start_time": "2024-05-26T23:07:59.539Z"
   },
   {
    "duration": 746,
    "start_time": "2024-05-26T23:08:08.407Z"
   },
   {
    "duration": 152,
    "start_time": "2024-05-26T23:08:09.621Z"
   },
   {
    "duration": 34,
    "start_time": "2024-05-26T23:08:10.749Z"
   },
   {
    "duration": 30,
    "start_time": "2024-05-26T23:08:13.330Z"
   },
   {
    "duration": 437,
    "start_time": "2024-05-26T23:08:15.011Z"
   },
   {
    "duration": 143,
    "start_time": "2024-05-26T23:08:17.299Z"
   },
   {
    "duration": 111,
    "start_time": "2024-05-26T23:08:18.927Z"
   },
   {
    "duration": 23,
    "start_time": "2024-05-26T23:08:21.120Z"
   },
   {
    "duration": 211,
    "start_time": "2024-05-26T23:08:22.821Z"
   },
   {
    "duration": 284,
    "start_time": "2024-05-26T23:08:26.202Z"
   },
   {
    "duration": 235,
    "start_time": "2024-05-26T23:08:52.727Z"
   },
   {
    "duration": 31,
    "start_time": "2024-05-26T23:09:00.333Z"
   },
   {
    "duration": 32,
    "start_time": "2024-05-26T23:09:06.303Z"
   },
   {
    "duration": 1755,
    "start_time": "2024-05-26T23:10:10.404Z"
   },
   {
    "duration": 777,
    "start_time": "2024-05-26T23:10:12.163Z"
   },
   {
    "duration": 263,
    "start_time": "2024-05-26T23:10:12.943Z"
   },
   {
    "duration": 38,
    "start_time": "2024-05-26T23:10:13.208Z"
   },
   {
    "duration": 27,
    "start_time": "2024-05-26T23:10:13.253Z"
   },
   {
    "duration": 481,
    "start_time": "2024-05-26T23:10:13.283Z"
   },
   {
    "duration": 158,
    "start_time": "2024-05-26T23:10:13.768Z"
   },
   {
    "duration": 111,
    "start_time": "2024-05-26T23:10:13.930Z"
   },
   {
    "duration": 23,
    "start_time": "2024-05-26T23:10:14.045Z"
   },
   {
    "duration": 246,
    "start_time": "2024-05-26T23:10:14.070Z"
   },
   {
    "duration": 322,
    "start_time": "2024-05-26T23:10:14.321Z"
   },
   {
    "duration": 19,
    "start_time": "2024-05-26T23:10:14.646Z"
   },
   {
    "duration": 252,
    "start_time": "2024-05-26T23:10:14.668Z"
   },
   {
    "duration": 0,
    "start_time": "2024-05-26T23:10:14.923Z"
   },
   {
    "duration": 0,
    "start_time": "2024-05-26T23:10:14.929Z"
   },
   {
    "duration": 0,
    "start_time": "2024-05-26T23:10:14.932Z"
   },
   {
    "duration": 0,
    "start_time": "2024-05-26T23:10:14.935Z"
   },
   {
    "duration": 0,
    "start_time": "2024-05-26T23:10:14.938Z"
   },
   {
    "duration": 0,
    "start_time": "2024-05-26T23:10:14.941Z"
   },
   {
    "duration": 0,
    "start_time": "2024-05-26T23:10:14.944Z"
   },
   {
    "duration": 0,
    "start_time": "2024-05-26T23:10:14.946Z"
   },
   {
    "duration": 0,
    "start_time": "2024-05-26T23:10:14.949Z"
   },
   {
    "duration": 1937,
    "start_time": "2024-05-26T23:10:28.534Z"
   },
   {
    "duration": 1118,
    "start_time": "2024-05-26T23:10:30.479Z"
   },
   {
    "duration": 187,
    "start_time": "2024-05-26T23:10:31.601Z"
   },
   {
    "duration": 46,
    "start_time": "2024-05-26T23:10:31.793Z"
   },
   {
    "duration": 25,
    "start_time": "2024-05-26T23:10:31.842Z"
   },
   {
    "duration": 441,
    "start_time": "2024-05-26T23:10:31.871Z"
   },
   {
    "duration": 190,
    "start_time": "2024-05-26T23:10:32.960Z"
   },
   {
    "duration": 98,
    "start_time": "2024-05-26T23:10:35.259Z"
   },
   {
    "duration": 21,
    "start_time": "2024-05-26T23:10:38.350Z"
   },
   {
    "duration": 10,
    "start_time": "2024-05-26T23:10:53.943Z"
   },
   {
    "duration": 53,
    "start_time": "2024-05-26T23:11:16.665Z"
   },
   {
    "duration": 502,
    "start_time": "2024-05-26T23:11:28.189Z"
   },
   {
    "duration": 30,
    "start_time": "2024-05-26T23:11:35.722Z"
   },
   {
    "duration": 1753,
    "start_time": "2024-05-26T23:12:58.778Z"
   },
   {
    "duration": 772,
    "start_time": "2024-05-26T23:13:00.536Z"
   },
   {
    "duration": 171,
    "start_time": "2024-05-26T23:13:01.312Z"
   },
   {
    "duration": 45,
    "start_time": "2024-05-26T23:13:01.486Z"
   },
   {
    "duration": 558,
    "start_time": "2024-05-26T23:13:01.543Z"
   },
   {
    "duration": 0,
    "start_time": "2024-05-26T23:13:02.113Z"
   },
   {
    "duration": 0,
    "start_time": "2024-05-26T23:13:02.115Z"
   },
   {
    "duration": 0,
    "start_time": "2024-05-26T23:13:02.117Z"
   },
   {
    "duration": 0,
    "start_time": "2024-05-26T23:13:02.119Z"
   },
   {
    "duration": 0,
    "start_time": "2024-05-26T23:13:02.121Z"
   },
   {
    "duration": 0,
    "start_time": "2024-05-26T23:13:02.122Z"
   },
   {
    "duration": 0,
    "start_time": "2024-05-26T23:13:02.124Z"
   },
   {
    "duration": 0,
    "start_time": "2024-05-26T23:13:02.126Z"
   },
   {
    "duration": 0,
    "start_time": "2024-05-26T23:13:02.128Z"
   },
   {
    "duration": 0,
    "start_time": "2024-05-26T23:13:02.129Z"
   },
   {
    "duration": 0,
    "start_time": "2024-05-26T23:13:02.131Z"
   },
   {
    "duration": 0,
    "start_time": "2024-05-26T23:13:02.138Z"
   },
   {
    "duration": 0,
    "start_time": "2024-05-26T23:13:02.139Z"
   },
   {
    "duration": 0,
    "start_time": "2024-05-26T23:13:02.141Z"
   },
   {
    "duration": 0,
    "start_time": "2024-05-26T23:13:02.143Z"
   },
   {
    "duration": 0,
    "start_time": "2024-05-26T23:13:02.145Z"
   },
   {
    "duration": 0,
    "start_time": "2024-05-26T23:13:02.146Z"
   },
   {
    "duration": 28,
    "start_time": "2024-05-26T23:13:46.613Z"
   },
   {
    "duration": 4,
    "start_time": "2024-05-26T23:13:52.363Z"
   },
   {
    "duration": 1878,
    "start_time": "2024-05-26T23:14:08.441Z"
   },
   {
    "duration": 844,
    "start_time": "2024-05-26T23:14:10.330Z"
   },
   {
    "duration": 163,
    "start_time": "2024-05-26T23:14:11.177Z"
   },
   {
    "duration": 30,
    "start_time": "2024-05-26T23:14:11.345Z"
   },
   {
    "duration": 126,
    "start_time": "2024-05-26T23:14:11.379Z"
   },
   {
    "duration": 523,
    "start_time": "2024-05-26T23:14:11.514Z"
   },
   {
    "duration": 145,
    "start_time": "2024-05-26T23:14:12.040Z"
   },
   {
    "duration": 132,
    "start_time": "2024-05-26T23:14:12.188Z"
   },
   {
    "duration": 33,
    "start_time": "2024-05-26T23:14:12.323Z"
   },
   {
    "duration": 212,
    "start_time": "2024-05-26T23:14:12.362Z"
   },
   {
    "duration": 98,
    "start_time": "2024-05-26T23:14:12.578Z"
   },
   {
    "duration": 9850,
    "start_time": "2024-05-26T23:14:12.679Z"
   },
   {
    "duration": 187,
    "start_time": "2024-05-26T23:14:22.532Z"
   },
   {
    "duration": 0,
    "start_time": "2024-05-26T23:14:22.722Z"
   },
   {
    "duration": 0,
    "start_time": "2024-05-26T23:14:22.724Z"
   },
   {
    "duration": 0,
    "start_time": "2024-05-26T23:14:22.727Z"
   },
   {
    "duration": 0,
    "start_time": "2024-05-26T23:14:22.729Z"
   },
   {
    "duration": 0,
    "start_time": "2024-05-26T23:14:22.733Z"
   },
   {
    "duration": 0,
    "start_time": "2024-05-26T23:14:22.735Z"
   },
   {
    "duration": 0,
    "start_time": "2024-05-26T23:14:22.738Z"
   },
   {
    "duration": 0,
    "start_time": "2024-05-26T23:14:22.741Z"
   },
   {
    "duration": 0,
    "start_time": "2024-05-26T23:14:22.745Z"
   },
   {
    "duration": 1734,
    "start_time": "2024-05-26T23:14:50.993Z"
   },
   {
    "duration": 825,
    "start_time": "2024-05-26T23:14:52.732Z"
   },
   {
    "duration": 162,
    "start_time": "2024-05-26T23:14:53.560Z"
   },
   {
    "duration": 30,
    "start_time": "2024-05-26T23:14:53.726Z"
   },
   {
    "duration": 16,
    "start_time": "2024-05-26T23:14:53.762Z"
   },
   {
    "duration": 454,
    "start_time": "2024-05-26T23:14:53.812Z"
   },
   {
    "duration": 155,
    "start_time": "2024-05-26T23:14:54.269Z"
   },
   {
    "duration": 121,
    "start_time": "2024-05-26T23:14:54.429Z"
   },
   {
    "duration": 23,
    "start_time": "2024-05-26T23:14:54.554Z"
   },
   {
    "duration": 241,
    "start_time": "2024-05-26T23:14:54.580Z"
   },
   {
    "duration": 97,
    "start_time": "2024-05-26T23:14:54.824Z"
   },
   {
    "duration": 9335,
    "start_time": "2024-05-26T23:14:54.924Z"
   },
   {
    "duration": 194,
    "start_time": "2024-05-26T23:15:04.263Z"
   },
   {
    "duration": 0,
    "start_time": "2024-05-26T23:15:04.463Z"
   },
   {
    "duration": 0,
    "start_time": "2024-05-26T23:15:04.466Z"
   },
   {
    "duration": 0,
    "start_time": "2024-05-26T23:15:04.467Z"
   },
   {
    "duration": 0,
    "start_time": "2024-05-26T23:15:04.469Z"
   },
   {
    "duration": 0,
    "start_time": "2024-05-26T23:15:04.471Z"
   },
   {
    "duration": 0,
    "start_time": "2024-05-26T23:15:04.473Z"
   },
   {
    "duration": 0,
    "start_time": "2024-05-26T23:15:04.474Z"
   },
   {
    "duration": 0,
    "start_time": "2024-05-26T23:15:04.476Z"
   },
   {
    "duration": 0,
    "start_time": "2024-05-26T23:15:04.478Z"
   },
   {
    "duration": 1764,
    "start_time": "2024-05-26T23:19:18.270Z"
   },
   {
    "duration": 830,
    "start_time": "2024-05-26T23:19:20.471Z"
   },
   {
    "duration": 209,
    "start_time": "2024-05-26T23:19:21.305Z"
   },
   {
    "duration": 27,
    "start_time": "2024-05-26T23:19:21.881Z"
   },
   {
    "duration": 17,
    "start_time": "2024-05-26T23:19:26.394Z"
   },
   {
    "duration": 26,
    "start_time": "2024-05-26T23:19:32.433Z"
   },
   {
    "duration": 22,
    "start_time": "2024-05-26T23:19:53.912Z"
   },
   {
    "duration": 22,
    "start_time": "2024-05-26T23:22:45.454Z"
   },
   {
    "duration": 8,
    "start_time": "2024-05-26T23:23:01.134Z"
   },
   {
    "duration": 22,
    "start_time": "2024-05-26T23:23:05.597Z"
   },
   {
    "duration": 234,
    "start_time": "2024-05-26T23:23:18.309Z"
   },
   {
    "duration": 26,
    "start_time": "2024-05-26T23:23:32.486Z"
   },
   {
    "duration": 11,
    "start_time": "2024-05-26T23:23:55.975Z"
   },
   {
    "duration": 8,
    "start_time": "2024-05-26T23:23:57.760Z"
   },
   {
    "duration": 12,
    "start_time": "2024-05-26T23:24:34.128Z"
   },
   {
    "duration": 12,
    "start_time": "2024-05-26T23:25:09.739Z"
   },
   {
    "duration": 15,
    "start_time": "2024-05-26T23:26:46.436Z"
   },
   {
    "duration": 16,
    "start_time": "2024-05-26T23:26:50.168Z"
   },
   {
    "duration": 1690,
    "start_time": "2024-05-26T23:27:42.690Z"
   },
   {
    "duration": 733,
    "start_time": "2024-05-26T23:27:44.384Z"
   },
   {
    "duration": 152,
    "start_time": "2024-05-26T23:27:45.121Z"
   },
   {
    "duration": 49,
    "start_time": "2024-05-26T23:27:45.276Z"
   },
   {
    "duration": 14,
    "start_time": "2024-05-26T23:27:45.332Z"
   },
   {
    "duration": 18,
    "start_time": "2024-05-26T23:27:45.350Z"
   },
   {
    "duration": 441,
    "start_time": "2024-05-26T23:27:45.371Z"
   },
   {
    "duration": 141,
    "start_time": "2024-05-26T23:27:45.815Z"
   },
   {
    "duration": 101,
    "start_time": "2024-05-26T23:27:45.959Z"
   },
   {
    "duration": 19,
    "start_time": "2024-05-26T23:27:46.064Z"
   },
   {
    "duration": 228,
    "start_time": "2024-05-26T23:27:46.086Z"
   },
   {
    "duration": 81,
    "start_time": "2024-05-26T23:27:46.317Z"
   },
   {
    "duration": 8934,
    "start_time": "2024-05-26T23:27:46.414Z"
   },
   {
    "duration": 181,
    "start_time": "2024-05-26T23:27:55.354Z"
   },
   {
    "duration": 0,
    "start_time": "2024-05-26T23:27:55.538Z"
   },
   {
    "duration": 0,
    "start_time": "2024-05-26T23:27:55.541Z"
   },
   {
    "duration": 0,
    "start_time": "2024-05-26T23:27:55.543Z"
   },
   {
    "duration": 1,
    "start_time": "2024-05-26T23:27:55.544Z"
   },
   {
    "duration": 0,
    "start_time": "2024-05-26T23:27:55.547Z"
   },
   {
    "duration": 0,
    "start_time": "2024-05-26T23:27:55.549Z"
   },
   {
    "duration": 0,
    "start_time": "2024-05-26T23:27:55.553Z"
   },
   {
    "duration": 0,
    "start_time": "2024-05-26T23:27:55.556Z"
   },
   {
    "duration": 0,
    "start_time": "2024-05-26T23:27:55.558Z"
   },
   {
    "duration": 1628,
    "start_time": "2024-05-26T23:28:46.654Z"
   },
   {
    "duration": 718,
    "start_time": "2024-05-26T23:28:48.285Z"
   },
   {
    "duration": 164,
    "start_time": "2024-05-26T23:28:49.006Z"
   },
   {
    "duration": 39,
    "start_time": "2024-05-26T23:28:49.173Z"
   },
   {
    "duration": 13,
    "start_time": "2024-05-26T23:28:49.217Z"
   },
   {
    "duration": 15,
    "start_time": "2024-05-26T23:28:49.233Z"
   },
   {
    "duration": 427,
    "start_time": "2024-05-26T23:28:49.251Z"
   },
   {
    "duration": 142,
    "start_time": "2024-05-26T23:28:49.681Z"
   },
   {
    "duration": 105,
    "start_time": "2024-05-26T23:28:49.826Z"
   },
   {
    "duration": 18,
    "start_time": "2024-05-26T23:28:49.934Z"
   },
   {
    "duration": 1220,
    "start_time": "2024-05-26T23:28:49.955Z"
   },
   {
    "duration": 258,
    "start_time": "2024-05-26T23:28:51.178Z"
   },
   {
    "duration": 1681,
    "start_time": "2024-05-26T23:29:20.107Z"
   },
   {
    "duration": 740,
    "start_time": "2024-05-26T23:29:21.793Z"
   },
   {
    "duration": 157,
    "start_time": "2024-05-26T23:29:22.537Z"
   },
   {
    "duration": 40,
    "start_time": "2024-05-26T23:29:22.697Z"
   },
   {
    "duration": 17,
    "start_time": "2024-05-26T23:29:22.741Z"
   },
   {
    "duration": 16,
    "start_time": "2024-05-26T23:29:22.762Z"
   },
   {
    "duration": 448,
    "start_time": "2024-05-26T23:29:22.813Z"
   },
   {
    "duration": 160,
    "start_time": "2024-05-26T23:29:23.264Z"
   },
   {
    "duration": 107,
    "start_time": "2024-05-26T23:29:23.429Z"
   },
   {
    "duration": 24,
    "start_time": "2024-05-26T23:29:23.540Z"
   },
   {
    "duration": 317,
    "start_time": "2024-05-26T23:29:23.567Z"
   },
   {
    "duration": 163,
    "start_time": "2024-05-26T23:29:23.887Z"
   },
   {
    "duration": 16233,
    "start_time": "2024-05-26T23:29:24.053Z"
   },
   {
    "duration": 208,
    "start_time": "2024-05-26T23:29:40.292Z"
   },
   {
    "duration": 0,
    "start_time": "2024-05-26T23:29:40.504Z"
   },
   {
    "duration": 0,
    "start_time": "2024-05-26T23:29:40.513Z"
   },
   {
    "duration": 0,
    "start_time": "2024-05-26T23:29:40.515Z"
   },
   {
    "duration": 0,
    "start_time": "2024-05-26T23:29:40.518Z"
   },
   {
    "duration": 0,
    "start_time": "2024-05-26T23:29:40.520Z"
   },
   {
    "duration": 0,
    "start_time": "2024-05-26T23:29:40.522Z"
   },
   {
    "duration": 0,
    "start_time": "2024-05-26T23:29:40.524Z"
   },
   {
    "duration": 0,
    "start_time": "2024-05-26T23:29:40.527Z"
   },
   {
    "duration": 0,
    "start_time": "2024-05-26T23:29:40.530Z"
   },
   {
    "duration": 1629,
    "start_time": "2024-05-27T06:29:18.676Z"
   },
   {
    "duration": 1641,
    "start_time": "2024-05-27T06:29:20.313Z"
   },
   {
    "duration": 174,
    "start_time": "2024-05-27T06:29:21.957Z"
   },
   {
    "duration": 27,
    "start_time": "2024-05-27T06:29:22.135Z"
   },
   {
    "duration": 15,
    "start_time": "2024-05-27T06:29:22.165Z"
   },
   {
    "duration": 15,
    "start_time": "2024-05-27T06:29:22.214Z"
   },
   {
    "duration": 445,
    "start_time": "2024-05-27T06:29:22.232Z"
   },
   {
    "duration": 143,
    "start_time": "2024-05-27T06:29:22.680Z"
   },
   {
    "duration": 101,
    "start_time": "2024-05-27T06:29:22.826Z"
   },
   {
    "duration": 23,
    "start_time": "2024-05-27T06:29:22.932Z"
   },
   {
    "duration": 317,
    "start_time": "2024-05-27T06:29:22.958Z"
   },
   {
    "duration": 157,
    "start_time": "2024-05-27T06:29:23.278Z"
   },
   {
    "duration": 17098,
    "start_time": "2024-05-27T06:29:23.438Z"
   },
   {
    "duration": 185,
    "start_time": "2024-05-27T06:29:40.539Z"
   },
   {
    "duration": 0,
    "start_time": "2024-05-27T06:29:40.727Z"
   },
   {
    "duration": 0,
    "start_time": "2024-05-27T06:29:40.729Z"
   },
   {
    "duration": 0,
    "start_time": "2024-05-27T06:29:40.731Z"
   },
   {
    "duration": 0,
    "start_time": "2024-05-27T06:29:40.734Z"
   },
   {
    "duration": 0,
    "start_time": "2024-05-27T06:29:40.736Z"
   },
   {
    "duration": 0,
    "start_time": "2024-05-27T06:29:40.739Z"
   },
   {
    "duration": 0,
    "start_time": "2024-05-27T06:29:40.741Z"
   },
   {
    "duration": 0,
    "start_time": "2024-05-27T06:29:40.744Z"
   },
   {
    "duration": 0,
    "start_time": "2024-05-27T06:29:40.747Z"
   },
   {
    "duration": 1748,
    "start_time": "2024-05-27T06:30:03.521Z"
   },
   {
    "duration": 766,
    "start_time": "2024-05-27T06:30:05.272Z"
   },
   {
    "duration": 155,
    "start_time": "2024-05-27T06:30:06.041Z"
   },
   {
    "duration": 35,
    "start_time": "2024-05-27T06:30:06.200Z"
   },
   {
    "duration": 14,
    "start_time": "2024-05-27T06:30:06.238Z"
   },
   {
    "duration": 17,
    "start_time": "2024-05-27T06:30:06.255Z"
   },
   {
    "duration": 416,
    "start_time": "2024-05-27T06:30:06.313Z"
   },
   {
    "duration": 142,
    "start_time": "2024-05-27T06:30:06.732Z"
   },
   {
    "duration": 103,
    "start_time": "2024-05-27T06:30:06.879Z"
   },
   {
    "duration": 35,
    "start_time": "2024-05-27T06:30:06.987Z"
   },
   {
    "duration": 311,
    "start_time": "2024-05-27T06:30:07.025Z"
   },
   {
    "duration": 156,
    "start_time": "2024-05-27T06:30:07.338Z"
   },
   {
    "duration": 16953,
    "start_time": "2024-05-27T06:30:07.497Z"
   },
   {
    "duration": 382,
    "start_time": "2024-05-27T06:30:24.453Z"
   },
   {
    "duration": 0,
    "start_time": "2024-05-27T06:30:24.838Z"
   },
   {
    "duration": 0,
    "start_time": "2024-05-27T06:30:24.839Z"
   },
   {
    "duration": 0,
    "start_time": "2024-05-27T06:30:24.842Z"
   },
   {
    "duration": 0,
    "start_time": "2024-05-27T06:30:24.844Z"
   },
   {
    "duration": 0,
    "start_time": "2024-05-27T06:30:24.848Z"
   },
   {
    "duration": 0,
    "start_time": "2024-05-27T06:30:24.850Z"
   },
   {
    "duration": 0,
    "start_time": "2024-05-27T06:30:24.913Z"
   },
   {
    "duration": 0,
    "start_time": "2024-05-27T06:30:24.915Z"
   },
   {
    "duration": 0,
    "start_time": "2024-05-27T06:30:24.917Z"
   },
   {
    "duration": 1663,
    "start_time": "2024-05-28T03:01:31.325Z"
   },
   {
    "duration": 878,
    "start_time": "2024-05-28T03:01:32.992Z"
   },
   {
    "duration": 171,
    "start_time": "2024-05-28T03:01:33.873Z"
   },
   {
    "duration": 27,
    "start_time": "2024-05-28T03:01:34.048Z"
   },
   {
    "duration": 43,
    "start_time": "2024-05-28T03:01:34.081Z"
   },
   {
    "duration": 16,
    "start_time": "2024-05-28T03:01:34.128Z"
   },
   {
    "duration": 451,
    "start_time": "2024-05-28T03:01:34.147Z"
   },
   {
    "duration": 168,
    "start_time": "2024-05-28T03:01:34.601Z"
   },
   {
    "duration": 108,
    "start_time": "2024-05-28T03:01:34.772Z"
   },
   {
    "duration": 32,
    "start_time": "2024-05-28T03:01:34.883Z"
   },
   {
    "duration": 306,
    "start_time": "2024-05-28T03:01:34.924Z"
   },
   {
    "duration": 169,
    "start_time": "2024-05-28T03:01:35.237Z"
   },
   {
    "duration": 16171,
    "start_time": "2024-05-28T03:01:35.409Z"
   },
   {
    "duration": 191,
    "start_time": "2024-05-28T03:01:51.586Z"
   },
   {
    "duration": 0,
    "start_time": "2024-05-28T03:01:51.780Z"
   },
   {
    "duration": 0,
    "start_time": "2024-05-28T03:01:51.783Z"
   },
   {
    "duration": 0,
    "start_time": "2024-05-28T03:01:51.786Z"
   },
   {
    "duration": 0,
    "start_time": "2024-05-28T03:01:51.788Z"
   },
   {
    "duration": 0,
    "start_time": "2024-05-28T03:01:51.790Z"
   },
   {
    "duration": 0,
    "start_time": "2024-05-28T03:01:51.817Z"
   },
   {
    "duration": 0,
    "start_time": "2024-05-28T03:01:51.821Z"
   },
   {
    "duration": 0,
    "start_time": "2024-05-28T03:01:51.823Z"
   },
   {
    "duration": 0,
    "start_time": "2024-05-28T03:01:51.825Z"
   },
   {
    "duration": 1742,
    "start_time": "2024-05-28T03:03:08.535Z"
   },
   {
    "duration": 729,
    "start_time": "2024-05-28T03:03:10.281Z"
   },
   {
    "duration": 156,
    "start_time": "2024-05-28T03:03:11.013Z"
   },
   {
    "duration": 38,
    "start_time": "2024-05-28T03:03:11.173Z"
   },
   {
    "duration": 23,
    "start_time": "2024-05-28T03:03:11.214Z"
   },
   {
    "duration": 16,
    "start_time": "2024-05-28T03:03:11.240Z"
   },
   {
    "duration": 441,
    "start_time": "2024-05-28T03:03:11.259Z"
   },
   {
    "duration": 144,
    "start_time": "2024-05-28T03:03:11.717Z"
   },
   {
    "duration": 103,
    "start_time": "2024-05-28T03:03:11.864Z"
   },
   {
    "duration": 18,
    "start_time": "2024-05-28T03:03:11.973Z"
   },
   {
    "duration": 319,
    "start_time": "2024-05-28T03:03:11.994Z"
   },
   {
    "duration": 152,
    "start_time": "2024-05-28T03:03:12.321Z"
   },
   {
    "duration": 15972,
    "start_time": "2024-05-28T03:03:12.476Z"
   },
   {
    "duration": 187,
    "start_time": "2024-05-28T03:03:28.451Z"
   },
   {
    "duration": 0,
    "start_time": "2024-05-28T03:03:28.641Z"
   },
   {
    "duration": 0,
    "start_time": "2024-05-28T03:03:28.643Z"
   },
   {
    "duration": 0,
    "start_time": "2024-05-28T03:03:28.645Z"
   },
   {
    "duration": 0,
    "start_time": "2024-05-28T03:03:28.647Z"
   },
   {
    "duration": 0,
    "start_time": "2024-05-28T03:03:28.649Z"
   },
   {
    "duration": 0,
    "start_time": "2024-05-28T03:03:28.651Z"
   },
   {
    "duration": 0,
    "start_time": "2024-05-28T03:03:28.652Z"
   },
   {
    "duration": 0,
    "start_time": "2024-05-28T03:03:28.654Z"
   },
   {
    "duration": 0,
    "start_time": "2024-05-28T03:03:28.656Z"
   },
   {
    "duration": 15,
    "start_time": "2024-05-28T03:05:31.881Z"
   },
   {
    "duration": 21,
    "start_time": "2024-05-28T03:05:43.340Z"
   },
   {
    "duration": 231,
    "start_time": "2024-05-28T03:05:51.542Z"
   },
   {
    "duration": 14351,
    "start_time": "2024-05-28T03:05:56.217Z"
   },
   {
    "duration": 14,
    "start_time": "2024-05-28T03:06:11.922Z"
   },
   {
    "duration": 10,
    "start_time": "2024-05-28T03:06:14.639Z"
   },
   {
    "duration": 6,
    "start_time": "2024-05-28T03:06:20.438Z"
   },
   {
    "duration": 25,
    "start_time": "2024-05-28T03:06:33.469Z"
   },
   {
    "duration": 44,
    "start_time": "2024-05-28T03:06:38.118Z"
   },
   {
    "duration": 33,
    "start_time": "2024-05-28T03:06:42.893Z"
   },
   {
    "duration": 7,
    "start_time": "2024-05-28T03:07:04.991Z"
   },
   {
    "duration": 26,
    "start_time": "2024-05-28T03:09:05.766Z"
   },
   {
    "duration": 349,
    "start_time": "2024-05-28T03:09:26.494Z"
   },
   {
    "duration": 358,
    "start_time": "2024-05-28T03:09:29.782Z"
   },
   {
    "duration": 293,
    "start_time": "2024-05-28T03:09:38.825Z"
   },
   {
    "duration": 20,
    "start_time": "2024-05-28T03:09:47.075Z"
   },
   {
    "duration": 106,
    "start_time": "2024-05-28T03:09:50.789Z"
   },
   {
    "duration": 49,
    "start_time": "2024-05-28T03:10:09.648Z"
   },
   {
    "duration": 37,
    "start_time": "2024-05-28T03:10:14.394Z"
   },
   {
    "duration": 38,
    "start_time": "2024-05-28T03:10:24.513Z"
   },
   {
    "duration": 328,
    "start_time": "2024-05-28T03:11:01.316Z"
   },
   {
    "duration": 126,
    "start_time": "2024-05-28T03:11:06.775Z"
   },
   {
    "duration": 68,
    "start_time": "2024-05-28T03:12:07.871Z"
   },
   {
    "duration": 23,
    "start_time": "2024-05-28T03:12:08.999Z"
   },
   {
    "duration": 15,
    "start_time": "2024-05-28T03:12:09.543Z"
   },
   {
    "duration": 65,
    "start_time": "2024-05-28T03:12:10.487Z"
   },
   {
    "duration": 74,
    "start_time": "2024-05-28T03:12:29.080Z"
   },
   {
    "duration": 81,
    "start_time": "2024-05-28T03:12:59.392Z"
   },
   {
    "duration": 19,
    "start_time": "2024-05-28T03:13:34.177Z"
   },
   {
    "duration": 7,
    "start_time": "2024-05-28T03:13:41.240Z"
   },
   {
    "duration": 42,
    "start_time": "2024-05-28T03:13:51.337Z"
   },
   {
    "duration": 63,
    "start_time": "2024-05-28T03:14:39.279Z"
   },
   {
    "duration": 76,
    "start_time": "2024-05-28T03:14:41.993Z"
   },
   {
    "duration": 63,
    "start_time": "2024-05-28T03:14:47.315Z"
   },
   {
    "duration": 41,
    "start_time": "2024-05-28T03:15:51.530Z"
   },
   {
    "duration": 66,
    "start_time": "2024-05-28T03:15:55.228Z"
   },
   {
    "duration": 36,
    "start_time": "2024-05-28T03:15:59.835Z"
   },
   {
    "duration": 910,
    "start_time": "2024-05-28T03:16:06.777Z"
   },
   {
    "duration": 1536,
    "start_time": "2024-05-28T03:16:30.721Z"
   },
   {
    "duration": 523,
    "start_time": "2024-05-28T03:31:26.114Z"
   },
   {
    "duration": 5272,
    "start_time": "2024-05-28T05:14:58.251Z"
   },
   {
    "duration": 799,
    "start_time": "2024-05-28T05:15:03.527Z"
   },
   {
    "duration": 151,
    "start_time": "2024-05-28T05:15:04.329Z"
   },
   {
    "duration": 38,
    "start_time": "2024-05-28T05:15:04.484Z"
   },
   {
    "duration": 16,
    "start_time": "2024-05-28T05:15:04.525Z"
   },
   {
    "duration": 19,
    "start_time": "2024-05-28T05:15:04.545Z"
   },
   {
    "duration": 466,
    "start_time": "2024-05-28T05:15:04.567Z"
   },
   {
    "duration": 154,
    "start_time": "2024-05-28T05:15:05.037Z"
   },
   {
    "duration": 103,
    "start_time": "2024-05-28T05:15:05.194Z"
   },
   {
    "duration": 19,
    "start_time": "2024-05-28T05:15:05.310Z"
   },
   {
    "duration": 317,
    "start_time": "2024-05-28T05:15:05.332Z"
   },
   {
    "duration": 158,
    "start_time": "2024-05-28T05:15:05.652Z"
   },
   {
    "duration": 336,
    "start_time": "2024-05-28T05:15:05.813Z"
   },
   {
    "duration": 342,
    "start_time": "2024-05-28T05:15:06.152Z"
   },
   {
    "duration": 525,
    "start_time": "2024-05-28T05:15:06.496Z"
   },
   {
    "duration": 0,
    "start_time": "2024-05-28T05:15:07.024Z"
   },
   {
    "duration": 0,
    "start_time": "2024-05-28T05:15:07.026Z"
   },
   {
    "duration": 0,
    "start_time": "2024-05-28T05:15:07.029Z"
   },
   {
    "duration": 0,
    "start_time": "2024-05-28T05:15:07.032Z"
   },
   {
    "duration": 0,
    "start_time": "2024-05-28T05:15:07.034Z"
   },
   {
    "duration": 0,
    "start_time": "2024-05-28T05:15:07.037Z"
   },
   {
    "duration": 0,
    "start_time": "2024-05-28T05:15:07.041Z"
   },
   {
    "duration": 0,
    "start_time": "2024-05-28T05:15:07.042Z"
   },
   {
    "duration": 0,
    "start_time": "2024-05-28T05:15:07.045Z"
   },
   {
    "duration": 1795,
    "start_time": "2024-05-28T05:31:15.026Z"
   },
   {
    "duration": 811,
    "start_time": "2024-05-28T05:31:16.825Z"
   },
   {
    "duration": 153,
    "start_time": "2024-05-28T05:31:17.639Z"
   },
   {
    "duration": 31,
    "start_time": "2024-05-28T05:31:17.809Z"
   },
   {
    "duration": 17,
    "start_time": "2024-05-28T05:31:17.843Z"
   },
   {
    "duration": 53,
    "start_time": "2024-05-28T05:31:17.863Z"
   },
   {
    "duration": 433,
    "start_time": "2024-05-28T05:31:17.919Z"
   },
   {
    "duration": 154,
    "start_time": "2024-05-28T05:31:18.355Z"
   },
   {
    "duration": 122,
    "start_time": "2024-05-28T05:31:18.512Z"
   },
   {
    "duration": 21,
    "start_time": "2024-05-28T05:31:18.641Z"
   },
   {
    "duration": 317,
    "start_time": "2024-05-28T05:31:18.666Z"
   },
   {
    "duration": 152,
    "start_time": "2024-05-28T05:31:18.986Z"
   },
   {
    "duration": 16,
    "start_time": "2024-05-28T05:31:19.141Z"
   },
   {
    "duration": 549,
    "start_time": "2024-05-28T05:31:19.161Z"
   },
   {
    "duration": 340,
    "start_time": "2024-05-28T05:31:19.713Z"
   },
   {
    "duration": 243,
    "start_time": "2024-05-28T05:31:20.056Z"
   },
   {
    "duration": 0,
    "start_time": "2024-05-28T05:31:20.309Z"
   },
   {
    "duration": 0,
    "start_time": "2024-05-28T05:31:20.311Z"
   },
   {
    "duration": 0,
    "start_time": "2024-05-28T05:31:20.313Z"
   },
   {
    "duration": 0,
    "start_time": "2024-05-28T05:31:20.315Z"
   },
   {
    "duration": 0,
    "start_time": "2024-05-28T05:31:20.317Z"
   },
   {
    "duration": 0,
    "start_time": "2024-05-28T05:31:20.319Z"
   },
   {
    "duration": 0,
    "start_time": "2024-05-28T05:31:20.320Z"
   },
   {
    "duration": 0,
    "start_time": "2024-05-28T05:31:20.322Z"
   },
   {
    "duration": 0,
    "start_time": "2024-05-28T05:31:20.326Z"
   },
   {
    "duration": 302,
    "start_time": "2024-05-28T05:31:58.630Z"
   },
   {
    "duration": 1658,
    "start_time": "2024-05-28T05:41:50.901Z"
   },
   {
    "duration": 771,
    "start_time": "2024-05-28T05:41:52.563Z"
   },
   {
    "duration": 152,
    "start_time": "2024-05-28T05:41:53.338Z"
   },
   {
    "duration": 42,
    "start_time": "2024-05-28T05:41:53.494Z"
   },
   {
    "duration": 14,
    "start_time": "2024-05-28T05:41:53.544Z"
   },
   {
    "duration": 49,
    "start_time": "2024-05-28T05:41:53.561Z"
   },
   {
    "duration": 483,
    "start_time": "2024-05-28T05:41:53.614Z"
   },
   {
    "duration": 161,
    "start_time": "2024-05-28T05:41:54.100Z"
   },
   {
    "duration": 143,
    "start_time": "2024-05-28T05:41:54.265Z"
   },
   {
    "duration": 25,
    "start_time": "2024-05-28T05:41:54.419Z"
   },
   {
    "duration": 328,
    "start_time": "2024-05-28T05:41:54.448Z"
   },
   {
    "duration": 163,
    "start_time": "2024-05-28T05:41:54.779Z"
   },
   {
    "duration": 15,
    "start_time": "2024-05-28T05:41:54.946Z"
   },
   {
    "duration": 320,
    "start_time": "2024-05-28T05:41:54.967Z"
   },
   {
    "duration": 365,
    "start_time": "2024-05-28T05:41:55.290Z"
   },
   {
    "duration": 9,
    "start_time": "2024-05-28T05:41:55.661Z"
   },
   {
    "duration": 42,
    "start_time": "2024-05-28T05:41:55.680Z"
   },
   {
    "duration": 145,
    "start_time": "2024-05-28T05:41:55.726Z"
   },
   {
    "duration": 46,
    "start_time": "2024-05-28T05:41:55.875Z"
   },
   {
    "duration": 121,
    "start_time": "2024-05-28T05:41:55.924Z"
   },
   {
    "duration": 16,
    "start_time": "2024-05-28T05:41:56.049Z"
   },
   {
    "duration": 46,
    "start_time": "2024-05-28T05:41:56.069Z"
   },
   {
    "duration": 206,
    "start_time": "2024-05-28T05:41:56.119Z"
   },
   {
    "duration": 2992,
    "start_time": "2024-05-28T05:41:56.331Z"
   },
   {
    "duration": 281,
    "start_time": "2024-05-28T05:41:59.326Z"
   },
   {
    "duration": 18508,
    "start_time": "2024-05-28T05:41:59.611Z"
   },
   {
    "duration": 15487,
    "start_time": "2024-05-28T05:42:18.122Z"
   },
   {
    "duration": 665,
    "start_time": "2024-05-28T05:42:33.612Z"
   },
   {
    "duration": 399,
    "start_time": "2024-05-28T05:43:28.356Z"
   },
   {
    "duration": 302,
    "start_time": "2024-05-28T05:43:50.934Z"
   },
   {
    "duration": 320,
    "start_time": "2024-05-28T05:46:06.271Z"
   },
   {
    "duration": 1859,
    "start_time": "2024-05-28T05:46:15.640Z"
   },
   {
    "duration": 744,
    "start_time": "2024-05-28T05:46:17.512Z"
   },
   {
    "duration": 154,
    "start_time": "2024-05-28T05:46:18.259Z"
   },
   {
    "duration": 27,
    "start_time": "2024-05-28T05:46:18.416Z"
   },
   {
    "duration": 14,
    "start_time": "2024-05-28T05:46:18.447Z"
   },
   {
    "duration": 53,
    "start_time": "2024-05-28T05:46:18.465Z"
   },
   {
    "duration": 430,
    "start_time": "2024-05-28T05:46:18.520Z"
   },
   {
    "duration": 144,
    "start_time": "2024-05-28T05:46:18.954Z"
   },
   {
    "duration": 86,
    "start_time": "2024-05-28T05:46:19.109Z"
   },
   {
    "duration": 19,
    "start_time": "2024-05-28T05:46:19.209Z"
   },
   {
    "duration": 302,
    "start_time": "2024-05-28T05:46:19.230Z"
   },
   {
    "duration": 154,
    "start_time": "2024-05-28T05:46:19.535Z"
   },
   {
    "duration": 26,
    "start_time": "2024-05-28T05:46:19.692Z"
   },
   {
    "duration": 605,
    "start_time": "2024-05-28T05:46:19.724Z"
   },
   {
    "duration": 324,
    "start_time": "2024-05-28T05:46:20.331Z"
   },
   {
    "duration": 5,
    "start_time": "2024-05-28T05:46:20.658Z"
   },
   {
    "duration": 54,
    "start_time": "2024-05-28T05:46:20.667Z"
   },
   {
    "duration": 135,
    "start_time": "2024-05-28T05:46:20.723Z"
   },
   {
    "duration": 17,
    "start_time": "2024-05-28T05:46:20.861Z"
   },
   {
    "duration": 101,
    "start_time": "2024-05-28T05:46:20.881Z"
   },
   {
    "duration": 29,
    "start_time": "2024-05-28T05:46:20.985Z"
   },
   {
    "duration": 20,
    "start_time": "2024-05-28T05:46:21.018Z"
   },
   {
    "duration": 23,
    "start_time": "2024-05-28T05:46:21.041Z"
   },
   {
    "duration": 57,
    "start_time": "2024-05-28T05:46:21.068Z"
   },
   {
    "duration": 197,
    "start_time": "2024-05-28T05:46:21.128Z"
   },
   {
    "duration": 384,
    "start_time": "2024-05-28T05:46:21.328Z"
   },
   {
    "duration": 0,
    "start_time": "2024-05-28T05:46:21.715Z"
   },
   {
    "duration": 0,
    "start_time": "2024-05-28T05:46:21.717Z"
   },
   {
    "duration": 329,
    "start_time": "2024-05-28T05:46:37.746Z"
   },
   {
    "duration": 1629,
    "start_time": "2024-05-28T05:47:25.948Z"
   },
   {
    "duration": 736,
    "start_time": "2024-05-28T05:47:27.581Z"
   },
   {
    "duration": 153,
    "start_time": "2024-05-28T05:47:28.320Z"
   },
   {
    "duration": 42,
    "start_time": "2024-05-28T05:47:28.476Z"
   },
   {
    "duration": 14,
    "start_time": "2024-05-28T05:47:28.523Z"
   },
   {
    "duration": 17,
    "start_time": "2024-05-28T05:47:28.540Z"
   },
   {
    "duration": 434,
    "start_time": "2024-05-28T05:47:28.560Z"
   },
   {
    "duration": 162,
    "start_time": "2024-05-28T05:47:28.996Z"
   },
   {
    "duration": 110,
    "start_time": "2024-05-28T05:47:29.162Z"
   },
   {
    "duration": 19,
    "start_time": "2024-05-28T05:47:29.274Z"
   },
   {
    "duration": 288,
    "start_time": "2024-05-28T05:47:29.310Z"
   },
   {
    "duration": 154,
    "start_time": "2024-05-28T05:47:29.601Z"
   },
   {
    "duration": 15,
    "start_time": "2024-05-28T05:47:29.758Z"
   },
   {
    "duration": 355,
    "start_time": "2024-05-28T05:47:29.779Z"
   },
   {
    "duration": 362,
    "start_time": "2024-05-28T05:47:30.138Z"
   },
   {
    "duration": 6,
    "start_time": "2024-05-28T05:47:30.509Z"
   },
   {
    "duration": 102,
    "start_time": "2024-05-28T05:47:30.519Z"
   },
   {
    "duration": 128,
    "start_time": "2024-05-28T05:47:30.624Z"
   },
   {
    "duration": 54,
    "start_time": "2024-05-28T05:47:30.755Z"
   },
   {
    "duration": 99,
    "start_time": "2024-05-28T05:47:30.812Z"
   },
   {
    "duration": 11,
    "start_time": "2024-05-28T05:47:30.915Z"
   },
   {
    "duration": 20,
    "start_time": "2024-05-28T05:47:30.933Z"
   },
   {
    "duration": 394,
    "start_time": "2024-05-28T05:47:30.956Z"
   },
   {
    "duration": 4758,
    "start_time": "2024-05-28T05:47:31.353Z"
   },
   {
    "duration": 199,
    "start_time": "2024-05-28T05:47:36.114Z"
   },
   {
    "duration": 2213,
    "start_time": "2024-05-28T05:47:36.316Z"
   },
   {
    "duration": 17783,
    "start_time": "2024-05-28T05:47:38.533Z"
   },
   {
    "duration": 630,
    "start_time": "2024-05-28T05:47:56.319Z"
   },
   {
    "duration": 209,
    "start_time": "2024-05-28T05:50:11.939Z"
   },
   {
    "duration": 264,
    "start_time": "2024-05-28T05:51:29.595Z"
   },
   {
    "duration": 713,
    "start_time": "2024-05-28T05:54:19.395Z"
   },
   {
    "duration": 1757,
    "start_time": "2024-05-28T05:55:03.537Z"
   },
   {
    "duration": 724,
    "start_time": "2024-05-28T05:55:05.298Z"
   },
   {
    "duration": 152,
    "start_time": "2024-05-28T05:55:06.025Z"
   },
   {
    "duration": 42,
    "start_time": "2024-05-28T05:55:06.181Z"
   },
   {
    "duration": 15,
    "start_time": "2024-05-28T05:55:06.226Z"
   },
   {
    "duration": 17,
    "start_time": "2024-05-28T05:55:06.244Z"
   },
   {
    "duration": 444,
    "start_time": "2024-05-28T05:55:06.266Z"
   },
   {
    "duration": 138,
    "start_time": "2024-05-28T05:55:06.712Z"
   },
   {
    "duration": 106,
    "start_time": "2024-05-28T05:55:06.852Z"
   },
   {
    "duration": 19,
    "start_time": "2024-05-28T05:55:06.966Z"
   },
   {
    "duration": 300,
    "start_time": "2024-05-28T05:55:06.988Z"
   },
   {
    "duration": 192,
    "start_time": "2024-05-28T05:55:07.291Z"
   },
   {
    "duration": 25,
    "start_time": "2024-05-28T05:55:07.486Z"
   },
   {
    "duration": 342,
    "start_time": "2024-05-28T05:55:07.514Z"
   },
   {
    "duration": 343,
    "start_time": "2024-05-28T05:55:07.859Z"
   },
   {
    "duration": 4,
    "start_time": "2024-05-28T05:55:08.208Z"
   },
   {
    "duration": 98,
    "start_time": "2024-05-28T05:55:08.216Z"
   },
   {
    "duration": 131,
    "start_time": "2024-05-28T05:55:08.318Z"
   },
   {
    "duration": 39,
    "start_time": "2024-05-28T05:55:08.452Z"
   },
   {
    "duration": 103,
    "start_time": "2024-05-28T05:55:08.509Z"
   },
   {
    "duration": 13,
    "start_time": "2024-05-28T05:55:08.615Z"
   },
   {
    "duration": 21,
    "start_time": "2024-05-28T05:55:08.631Z"
   },
   {
    "duration": 375,
    "start_time": "2024-05-28T05:55:08.655Z"
   },
   {
    "duration": 4560,
    "start_time": "2024-05-28T05:55:09.033Z"
   },
   {
    "duration": 215,
    "start_time": "2024-05-28T05:55:13.596Z"
   },
   {
    "duration": 2409,
    "start_time": "2024-05-28T05:55:13.815Z"
   },
   {
    "duration": 17675,
    "start_time": "2024-05-28T05:55:16.228Z"
   },
   {
    "duration": 1089,
    "start_time": "2024-05-28T05:55:33.913Z"
   },
   {
    "duration": 427,
    "start_time": "2024-05-28T05:56:29.383Z"
   },
   {
    "duration": 326,
    "start_time": "2024-05-28T05:56:35.356Z"
   },
   {
    "duration": 342,
    "start_time": "2024-05-28T05:56:55.414Z"
   },
   {
    "duration": 41,
    "start_time": "2024-05-28T06:01:51.255Z"
   },
   {
    "duration": 1627,
    "start_time": "2024-05-28T06:05:20.646Z"
   },
   {
    "duration": 714,
    "start_time": "2024-05-28T06:05:22.277Z"
   },
   {
    "duration": 153,
    "start_time": "2024-05-28T06:05:22.994Z"
   },
   {
    "duration": 29,
    "start_time": "2024-05-28T06:05:23.151Z"
   },
   {
    "duration": 15,
    "start_time": "2024-05-28T06:05:23.211Z"
   },
   {
    "duration": 16,
    "start_time": "2024-05-28T06:05:23.229Z"
   },
   {
    "duration": 453,
    "start_time": "2024-05-28T06:05:23.248Z"
   },
   {
    "duration": 220,
    "start_time": "2024-05-28T06:05:23.710Z"
   },
   {
    "duration": 118,
    "start_time": "2024-05-28T06:05:23.934Z"
   },
   {
    "duration": 23,
    "start_time": "2024-05-28T06:05:24.058Z"
   },
   {
    "duration": 346,
    "start_time": "2024-05-28T06:05:24.085Z"
   },
   {
    "duration": 186,
    "start_time": "2024-05-28T06:05:24.434Z"
   },
   {
    "duration": 17,
    "start_time": "2024-05-28T06:05:24.624Z"
   },
   {
    "duration": 367,
    "start_time": "2024-05-28T06:05:24.648Z"
   },
   {
    "duration": 386,
    "start_time": "2024-05-28T06:05:25.018Z"
   },
   {
    "duration": 6,
    "start_time": "2024-05-28T06:05:25.411Z"
   },
   {
    "duration": 104,
    "start_time": "2024-05-28T06:05:25.421Z"
   },
   {
    "duration": 131,
    "start_time": "2024-05-28T06:05:25.528Z"
   },
   {
    "duration": 54,
    "start_time": "2024-05-28T06:05:25.662Z"
   },
   {
    "duration": 95,
    "start_time": "2024-05-28T06:05:25.718Z"
   },
   {
    "duration": 14,
    "start_time": "2024-05-28T06:05:25.816Z"
   },
   {
    "duration": 20,
    "start_time": "2024-05-28T06:05:25.833Z"
   },
   {
    "duration": 424,
    "start_time": "2024-05-28T06:05:25.857Z"
   },
   {
    "duration": 5124,
    "start_time": "2024-05-28T06:05:26.284Z"
   },
   {
    "duration": 209,
    "start_time": "2024-05-28T06:05:31.412Z"
   },
   {
    "duration": 2199,
    "start_time": "2024-05-28T06:05:31.624Z"
   },
   {
    "duration": 17697,
    "start_time": "2024-05-28T06:05:33.826Z"
   },
   {
    "duration": 42,
    "start_time": "2024-05-28T06:05:51.526Z"
   },
   {
    "duration": 92,
    "start_time": "2024-05-28T06:05:51.572Z"
   },
   {
    "duration": 10,
    "start_time": "2024-05-28T06:05:51.668Z"
   },
   {
    "duration": 0,
    "start_time": "2024-05-28T06:05:51.680Z"
   },
   {
    "duration": 39,
    "start_time": "2024-05-28T06:06:40.483Z"
   },
   {
    "duration": 426,
    "start_time": "2024-05-28T06:06:42.375Z"
   },
   {
    "duration": 81,
    "start_time": "2024-05-28T06:07:57.776Z"
   },
   {
    "duration": 9,
    "start_time": "2024-05-28T06:08:09.220Z"
   },
   {
    "duration": 31,
    "start_time": "2024-05-28T06:08:10.844Z"
   },
   {
    "duration": 543,
    "start_time": "2024-05-28T06:08:21.667Z"
   },
   {
    "duration": 32,
    "start_time": "2024-05-28T06:19:01.723Z"
   },
   {
    "duration": 1614,
    "start_time": "2024-05-28T06:19:10.444Z"
   },
   {
    "duration": 741,
    "start_time": "2024-05-28T06:19:12.062Z"
   },
   {
    "duration": 151,
    "start_time": "2024-05-28T06:19:12.809Z"
   },
   {
    "duration": 44,
    "start_time": "2024-05-28T06:19:12.965Z"
   },
   {
    "duration": 13,
    "start_time": "2024-05-28T06:19:13.012Z"
   },
   {
    "duration": 16,
    "start_time": "2024-05-28T06:19:13.028Z"
   },
   {
    "duration": 449,
    "start_time": "2024-05-28T06:19:13.046Z"
   },
   {
    "duration": 146,
    "start_time": "2024-05-28T06:19:13.500Z"
   },
   {
    "duration": 102,
    "start_time": "2024-05-28T06:19:13.649Z"
   },
   {
    "duration": 18,
    "start_time": "2024-05-28T06:19:13.756Z"
   },
   {
    "duration": 313,
    "start_time": "2024-05-28T06:19:13.777Z"
   },
   {
    "duration": 152,
    "start_time": "2024-05-28T06:19:14.095Z"
   },
   {
    "duration": 14,
    "start_time": "2024-05-28T06:19:14.250Z"
   },
   {
    "duration": 358,
    "start_time": "2024-05-28T06:19:14.267Z"
   },
   {
    "duration": 341,
    "start_time": "2024-05-28T06:19:14.629Z"
   },
   {
    "duration": 4,
    "start_time": "2024-05-28T06:19:14.973Z"
   },
   {
    "duration": 92,
    "start_time": "2024-05-28T06:19:14.981Z"
   },
   {
    "duration": 133,
    "start_time": "2024-05-28T06:19:15.076Z"
   },
   {
    "duration": 46,
    "start_time": "2024-05-28T06:19:15.212Z"
   },
   {
    "duration": 102,
    "start_time": "2024-05-28T06:19:15.261Z"
   },
   {
    "duration": 13,
    "start_time": "2024-05-28T06:19:15.367Z"
   },
   {
    "duration": 36,
    "start_time": "2024-05-28T06:19:15.384Z"
   },
   {
    "duration": 394,
    "start_time": "2024-05-28T06:19:15.424Z"
   },
   {
    "duration": 4667,
    "start_time": "2024-05-28T06:19:15.821Z"
   },
   {
    "duration": 221,
    "start_time": "2024-05-28T06:19:20.491Z"
   },
   {
    "duration": 2204,
    "start_time": "2024-05-28T06:19:20.715Z"
   },
   {
    "duration": 17847,
    "start_time": "2024-05-28T06:19:22.921Z"
   },
   {
    "duration": 45,
    "start_time": "2024-05-28T06:19:40.774Z"
   },
   {
    "duration": 89,
    "start_time": "2024-05-28T06:19:40.822Z"
   },
   {
    "duration": 42,
    "start_time": "2024-05-28T06:19:40.913Z"
   },
   {
    "duration": 12,
    "start_time": "2024-05-28T06:19:40.958Z"
   },
   {
    "duration": 913,
    "start_time": "2024-05-28T06:19:40.973Z"
   },
   {
    "duration": 0,
    "start_time": "2024-05-28T06:19:41.889Z"
   },
   {
    "duration": 1761,
    "start_time": "2024-05-28T06:39:18.609Z"
   },
   {
    "duration": 730,
    "start_time": "2024-05-28T06:39:20.375Z"
   },
   {
    "duration": 146,
    "start_time": "2024-05-28T06:39:21.110Z"
   },
   {
    "duration": 26,
    "start_time": "2024-05-28T06:39:21.259Z"
   },
   {
    "duration": 15,
    "start_time": "2024-05-28T06:39:21.311Z"
   },
   {
    "duration": 16,
    "start_time": "2024-05-28T06:39:21.329Z"
   },
   {
    "duration": 454,
    "start_time": "2024-05-28T06:39:21.348Z"
   },
   {
    "duration": 144,
    "start_time": "2024-05-28T06:39:21.808Z"
   },
   {
    "duration": 99,
    "start_time": "2024-05-28T06:39:21.956Z"
   },
   {
    "duration": 22,
    "start_time": "2024-05-28T06:39:22.059Z"
   },
   {
    "duration": 317,
    "start_time": "2024-05-28T06:39:22.084Z"
   },
   {
    "duration": 156,
    "start_time": "2024-05-28T06:39:22.408Z"
   },
   {
    "duration": 15,
    "start_time": "2024-05-28T06:39:22.567Z"
   },
   {
    "duration": 348,
    "start_time": "2024-05-28T06:39:22.587Z"
   },
   {
    "duration": 339,
    "start_time": "2024-05-28T06:39:22.938Z"
   },
   {
    "duration": 5,
    "start_time": "2024-05-28T06:39:23.280Z"
   },
   {
    "duration": 102,
    "start_time": "2024-05-28T06:39:23.288Z"
   },
   {
    "duration": 136,
    "start_time": "2024-05-28T06:39:23.393Z"
   },
   {
    "duration": 40,
    "start_time": "2024-05-28T06:39:23.532Z"
   },
   {
    "duration": 111,
    "start_time": "2024-05-28T06:39:23.574Z"
   },
   {
    "duration": 26,
    "start_time": "2024-05-28T06:39:23.688Z"
   },
   {
    "duration": 22,
    "start_time": "2024-05-28T06:39:23.717Z"
   },
   {
    "duration": 384,
    "start_time": "2024-05-28T06:39:23.742Z"
   },
   {
    "duration": 4744,
    "start_time": "2024-05-28T06:39:24.129Z"
   },
   {
    "duration": 236,
    "start_time": "2024-05-28T06:39:28.876Z"
   },
   {
    "duration": 2127,
    "start_time": "2024-05-28T06:39:29.115Z"
   },
   {
    "duration": 18477,
    "start_time": "2024-05-28T06:39:31.310Z"
   },
   {
    "duration": 45,
    "start_time": "2024-05-28T06:39:49.790Z"
   },
   {
    "duration": 93,
    "start_time": "2024-05-28T06:39:49.838Z"
   },
   {
    "duration": 39,
    "start_time": "2024-05-28T06:39:49.934Z"
   },
   {
    "duration": 11,
    "start_time": "2024-05-28T06:39:49.976Z"
   },
   {
    "duration": 898,
    "start_time": "2024-05-28T06:39:50.010Z"
   },
   {
    "duration": 0,
    "start_time": "2024-05-28T06:39:50.911Z"
   },
   {
    "duration": 7729,
    "start_time": "2024-05-29T04:39:55.720Z"
   },
   {
    "duration": 971,
    "start_time": "2024-05-29T04:40:03.462Z"
   },
   {
    "duration": 179,
    "start_time": "2024-05-29T04:40:04.440Z"
   },
   {
    "duration": 35,
    "start_time": "2024-05-29T04:40:04.626Z"
   },
   {
    "duration": 48,
    "start_time": "2024-05-29T04:40:04.665Z"
   },
   {
    "duration": 22,
    "start_time": "2024-05-29T04:40:04.717Z"
   },
   {
    "duration": 581,
    "start_time": "2024-05-29T04:40:04.743Z"
   },
   {
    "duration": 159,
    "start_time": "2024-05-29T04:40:05.328Z"
   },
   {
    "duration": 116,
    "start_time": "2024-05-29T04:40:05.492Z"
   },
   {
    "duration": 24,
    "start_time": "2024-05-29T04:40:05.619Z"
   },
   {
    "duration": 338,
    "start_time": "2024-05-29T04:40:05.647Z"
   },
   {
    "duration": 216,
    "start_time": "2024-05-29T04:40:05.988Z"
   },
   {
    "duration": 26,
    "start_time": "2024-05-29T04:40:06.210Z"
   },
   {
    "duration": 353,
    "start_time": "2024-05-29T04:40:06.242Z"
   },
   {
    "duration": 352,
    "start_time": "2024-05-29T04:40:06.599Z"
   },
   {
    "duration": 5,
    "start_time": "2024-05-29T04:40:06.956Z"
   },
   {
    "duration": 108,
    "start_time": "2024-05-29T04:40:06.973Z"
   },
   {
    "duration": 171,
    "start_time": "2024-05-29T04:40:07.085Z"
   },
   {
    "duration": 71,
    "start_time": "2024-05-29T04:40:07.261Z"
   },
   {
    "duration": 154,
    "start_time": "2024-05-29T04:40:07.337Z"
   },
   {
    "duration": 26,
    "start_time": "2024-05-29T04:40:07.495Z"
   },
   {
    "duration": 30,
    "start_time": "2024-05-29T04:40:07.525Z"
   },
   {
    "duration": 586,
    "start_time": "2024-05-29T04:40:07.559Z"
   },
   {
    "duration": 7795,
    "start_time": "2024-05-29T04:40:08.149Z"
   },
   {
    "duration": 399,
    "start_time": "2024-05-29T04:40:15.948Z"
   },
   {
    "duration": 1736,
    "start_time": "2024-05-29T04:41:54.134Z"
   },
   {
    "duration": 841,
    "start_time": "2024-05-29T04:41:55.874Z"
   },
   {
    "duration": 156,
    "start_time": "2024-05-29T04:41:56.718Z"
   },
   {
    "duration": 32,
    "start_time": "2024-05-29T04:41:56.877Z"
   },
   {
    "duration": 18,
    "start_time": "2024-05-29T04:41:56.913Z"
   },
   {
    "duration": 18,
    "start_time": "2024-05-29T04:41:56.935Z"
   },
   {
    "duration": 486,
    "start_time": "2024-05-29T04:41:56.956Z"
   },
   {
    "duration": 145,
    "start_time": "2024-05-29T04:41:57.446Z"
   },
   {
    "duration": 85,
    "start_time": "2024-05-29T04:41:57.610Z"
   },
   {
    "duration": 26,
    "start_time": "2024-05-29T04:41:57.697Z"
   },
   {
    "duration": 319,
    "start_time": "2024-05-29T04:41:57.726Z"
   },
   {
    "duration": 151,
    "start_time": "2024-05-29T04:41:58.048Z"
   },
   {
    "duration": 18,
    "start_time": "2024-05-29T04:41:58.207Z"
   },
   {
    "duration": 349,
    "start_time": "2024-05-29T04:41:58.232Z"
   },
   {
    "duration": 342,
    "start_time": "2024-05-29T04:41:58.584Z"
   },
   {
    "duration": 7,
    "start_time": "2024-05-29T04:41:58.930Z"
   },
   {
    "duration": 97,
    "start_time": "2024-05-29T04:41:58.940Z"
   },
   {
    "duration": 132,
    "start_time": "2024-05-29T04:41:59.040Z"
   },
   {
    "duration": 54,
    "start_time": "2024-05-29T04:41:59.175Z"
   },
   {
    "duration": 102,
    "start_time": "2024-05-29T04:41:59.232Z"
   },
   {
    "duration": 13,
    "start_time": "2024-05-29T04:41:59.337Z"
   },
   {
    "duration": 22,
    "start_time": "2024-05-29T04:41:59.354Z"
   },
   {
    "duration": 416,
    "start_time": "2024-05-29T04:41:59.379Z"
   },
   {
    "duration": 4920,
    "start_time": "2024-05-29T04:41:59.798Z"
   },
   {
    "duration": 392,
    "start_time": "2024-05-29T04:42:04.724Z"
   },
   {
    "duration": 1696,
    "start_time": "2024-05-29T04:43:03.323Z"
   },
   {
    "duration": 780,
    "start_time": "2024-05-29T04:43:05.023Z"
   },
   {
    "duration": 161,
    "start_time": "2024-05-29T04:43:05.807Z"
   },
   {
    "duration": 37,
    "start_time": "2024-05-29T04:43:05.972Z"
   },
   {
    "duration": 16,
    "start_time": "2024-05-29T04:43:06.011Z"
   },
   {
    "duration": 16,
    "start_time": "2024-05-29T04:43:06.030Z"
   },
   {
    "duration": 437,
    "start_time": "2024-05-29T04:43:06.050Z"
   },
   {
    "duration": 155,
    "start_time": "2024-05-29T04:43:06.490Z"
   },
   {
    "duration": 143,
    "start_time": "2024-05-29T04:43:06.648Z"
   },
   {
    "duration": 32,
    "start_time": "2024-05-29T04:43:06.796Z"
   },
   {
    "duration": 314,
    "start_time": "2024-05-29T04:43:06.831Z"
   },
   {
    "duration": 155,
    "start_time": "2024-05-29T04:43:07.148Z"
   },
   {
    "duration": 15,
    "start_time": "2024-05-29T04:43:07.305Z"
   },
   {
    "duration": 335,
    "start_time": "2024-05-29T04:43:07.323Z"
   },
   {
    "duration": 381,
    "start_time": "2024-05-29T04:43:07.661Z"
   },
   {
    "duration": 6,
    "start_time": "2024-05-29T04:43:08.045Z"
   },
   {
    "duration": 103,
    "start_time": "2024-05-29T04:43:08.054Z"
   },
   {
    "duration": 136,
    "start_time": "2024-05-29T04:43:08.160Z"
   },
   {
    "duration": 46,
    "start_time": "2024-05-29T04:43:08.300Z"
   },
   {
    "duration": 110,
    "start_time": "2024-05-29T04:43:08.348Z"
   },
   {
    "duration": 14,
    "start_time": "2024-05-29T04:43:08.462Z"
   },
   {
    "duration": 38,
    "start_time": "2024-05-29T04:43:08.479Z"
   },
   {
    "duration": 389,
    "start_time": "2024-05-29T04:43:08.520Z"
   },
   {
    "duration": 4730,
    "start_time": "2024-05-29T04:43:08.913Z"
   },
   {
    "duration": 261,
    "start_time": "2024-05-29T04:43:13.648Z"
   },
   {
    "duration": 1680,
    "start_time": "2024-05-29T04:44:18.068Z"
   },
   {
    "duration": 744,
    "start_time": "2024-05-29T04:44:21.744Z"
   },
   {
    "duration": 143,
    "start_time": "2024-05-29T04:44:23.055Z"
   },
   {
    "duration": 25,
    "start_time": "2024-05-29T04:44:23.949Z"
   },
   {
    "duration": 14,
    "start_time": "2024-05-29T04:44:28.528Z"
   },
   {
    "duration": 16,
    "start_time": "2024-05-29T04:44:29.604Z"
   },
   {
    "duration": 408,
    "start_time": "2024-05-29T04:44:30.640Z"
   },
   {
    "duration": 138,
    "start_time": "2024-05-29T04:44:31.740Z"
   },
   {
    "duration": 85,
    "start_time": "2024-05-29T04:44:32.906Z"
   },
   {
    "duration": 19,
    "start_time": "2024-05-29T04:44:35.076Z"
   },
   {
    "duration": 306,
    "start_time": "2024-05-29T04:44:36.350Z"
   },
   {
    "duration": 155,
    "start_time": "2024-05-29T04:44:37.517Z"
   },
   {
    "duration": 19,
    "start_time": "2024-05-29T04:44:38.882Z"
   },
   {
    "duration": 329,
    "start_time": "2024-05-29T04:44:39.597Z"
   },
   {
    "duration": 319,
    "start_time": "2024-05-29T04:44:41.110Z"
   },
   {
    "duration": 5,
    "start_time": "2024-05-29T04:44:42.178Z"
   },
   {
    "duration": 74,
    "start_time": "2024-05-29T04:44:42.998Z"
   },
   {
    "duration": 121,
    "start_time": "2024-05-29T04:44:44.106Z"
   },
   {
    "duration": 40,
    "start_time": "2024-05-29T04:44:47.468Z"
   },
   {
    "duration": 87,
    "start_time": "2024-05-29T04:44:51.191Z"
   },
   {
    "duration": 13,
    "start_time": "2024-05-29T04:44:52.345Z"
   },
   {
    "duration": 24,
    "start_time": "2024-05-29T04:44:53.152Z"
   },
   {
    "duration": 344,
    "start_time": "2024-05-29T04:44:55.368Z"
   },
   {
    "duration": 4884,
    "start_time": "2024-05-29T04:44:59.133Z"
   },
   {
    "duration": 168,
    "start_time": "2024-05-29T04:45:07.871Z"
   },
   {
    "duration": 74765,
    "start_time": "2024-05-29T04:45:10.544Z"
   },
   {
    "duration": 19131,
    "start_time": "2024-05-29T04:46:37.680Z"
   },
   {
    "duration": 43,
    "start_time": "2024-05-29T04:47:02.585Z"
   },
   {
    "duration": 73,
    "start_time": "2024-05-29T04:47:05.206Z"
   },
   {
    "duration": 42,
    "start_time": "2024-05-29T04:47:07.331Z"
   },
   {
    "duration": 12,
    "start_time": "2024-05-29T04:47:08.548Z"
   },
   {
    "duration": 7060,
    "start_time": "2024-05-29T04:47:10.758Z"
   },
   {
    "duration": 6741,
    "start_time": "2024-05-29T04:47:38.579Z"
   },
   {
    "duration": 21,
    "start_time": "2024-05-29T04:47:51.574Z"
   },
   {
    "duration": 14,
    "start_time": "2024-05-29T04:47:57.834Z"
   },
   {
    "duration": 1816,
    "start_time": "2024-05-29T04:48:09.090Z"
   },
   {
    "duration": 725,
    "start_time": "2024-05-29T04:48:10.910Z"
   },
   {
    "duration": 156,
    "start_time": "2024-05-29T04:48:11.638Z"
   },
   {
    "duration": 29,
    "start_time": "2024-05-29T04:48:11.808Z"
   },
   {
    "duration": 17,
    "start_time": "2024-05-29T04:48:11.840Z"
   },
   {
    "duration": 51,
    "start_time": "2024-05-29T04:48:11.860Z"
   },
   {
    "duration": 412,
    "start_time": "2024-05-29T04:48:11.914Z"
   },
   {
    "duration": 147,
    "start_time": "2024-05-29T04:48:12.330Z"
   },
   {
    "duration": 101,
    "start_time": "2024-05-29T04:48:12.480Z"
   },
   {
    "duration": 30,
    "start_time": "2024-05-29T04:48:12.587Z"
   },
   {
    "duration": 304,
    "start_time": "2024-05-29T04:48:12.620Z"
   },
   {
    "duration": 176,
    "start_time": "2024-05-29T04:48:12.927Z"
   },
   {
    "duration": 16,
    "start_time": "2024-05-29T04:48:13.107Z"
   },
   {
    "duration": 349,
    "start_time": "2024-05-29T04:48:13.126Z"
   },
   {
    "duration": 330,
    "start_time": "2024-05-29T04:48:13.479Z"
   },
   {
    "duration": 5,
    "start_time": "2024-05-29T04:48:13.813Z"
   },
   {
    "duration": 98,
    "start_time": "2024-05-29T04:48:13.821Z"
   },
   {
    "duration": 131,
    "start_time": "2024-05-29T04:48:13.923Z"
   },
   {
    "duration": 60,
    "start_time": "2024-05-29T04:48:14.057Z"
   },
   {
    "duration": 104,
    "start_time": "2024-05-29T04:48:14.120Z"
   },
   {
    "duration": 13,
    "start_time": "2024-05-29T04:48:14.227Z"
   },
   {
    "duration": 26,
    "start_time": "2024-05-29T04:48:14.244Z"
   },
   {
    "duration": 405,
    "start_time": "2024-05-29T04:48:14.273Z"
   },
   {
    "duration": 4808,
    "start_time": "2024-05-29T04:48:14.682Z"
   },
   {
    "duration": 139,
    "start_time": "2024-05-29T04:48:19.494Z"
   },
   {
    "duration": 73983,
    "start_time": "2024-05-29T04:48:19.636Z"
   },
   {
    "duration": 19291,
    "start_time": "2024-05-29T04:49:33.622Z"
   },
   {
    "duration": 43,
    "start_time": "2024-05-29T04:49:52.922Z"
   },
   {
    "duration": 97,
    "start_time": "2024-05-29T04:49:52.967Z"
   },
   {
    "duration": 51,
    "start_time": "2024-05-29T04:49:53.068Z"
   },
   {
    "duration": 10,
    "start_time": "2024-05-29T04:49:53.122Z"
   },
   {
    "duration": 6793,
    "start_time": "2024-05-29T04:49:53.135Z"
   },
   {
    "duration": 10,
    "start_time": "2024-05-29T04:49:59.930Z"
   }
  ],
  "kernelspec": {
   "display_name": "Python 3 (ipykernel)",
   "language": "python",
   "name": "python3"
  },
  "language_info": {
   "codemirror_mode": {
    "name": "ipython",
    "version": 3
   },
   "file_extension": ".py",
   "mimetype": "text/x-python",
   "name": "python",
   "nbconvert_exporter": "python",
   "pygments_lexer": "ipython3",
   "version": "3.9.19"
  },
  "toc": {
   "base_numbering": 1,
   "nav_menu": {},
   "number_sections": true,
   "sideBar": true,
   "skip_h1_title": true,
   "title_cell": "Table of Contents",
   "title_sidebar": "Contents",
   "toc_cell": false,
   "toc_position": {
    "height": "calc(100% - 180px)",
    "left": "10px",
    "top": "150px",
    "width": "184.35px"
   },
   "toc_section_display": true,
   "toc_window_display": false
  }
 },
 "nbformat": 4,
 "nbformat_minor": 2
}
